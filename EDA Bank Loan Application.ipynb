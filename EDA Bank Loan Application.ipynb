{
 "cells": [
  {
   "cell_type": "code",
   "execution_count": 1,
   "id": "be25397e",
   "metadata": {},
   "outputs": [],
   "source": [
    "import pandas as pd\n",
    "import numpy as np\n",
    "import matplotlib.pyplot as plt\n",
    "import seaborn as sns\n",
    "pd.set_option('display.float_format', lambda x: '%.2f' % x)\n",
    "import warnings\n",
    "warnings.filterwarnings(\"ignore\")"
   ]
  },
  {
   "cell_type": "code",
   "execution_count": 2,
   "id": "9c589864",
   "metadata": {},
   "outputs": [],
   "source": [
    "# read dataset"
   ]
  },
  {
   "cell_type": "code",
   "execution_count": 3,
   "id": "faf14d7b",
   "metadata": {},
   "outputs": [],
   "source": [
    "app_df = pd.read_csv('application_data.csv', encoding='cp1252')\n",
    "pre_df = pd.read_csv('previous_application.csv')\n",
    "des_df = pd.read_csv('columns_description.csv',  encoding='cp1252')"
   ]
  },
  {
   "cell_type": "markdown",
   "id": "4a0418ae",
   "metadata": {},
   "source": [
    "## Clean data"
   ]
  },
  {
   "cell_type": "markdown",
   "id": "e3634c6f",
   "metadata": {},
   "source": [
    "### View dataset and drop unnecessary columns"
   ]
  },
  {
   "cell_type": "code",
   "execution_count": 4,
   "id": "8087c430",
   "metadata": {},
   "outputs": [
    {
     "data": {
      "text/plain": [
       "(1670214, 37)"
      ]
     },
     "execution_count": 4,
     "metadata": {},
     "output_type": "execute_result"
    }
   ],
   "source": [
    "pre_df.shape"
   ]
  },
  {
   "cell_type": "code",
   "execution_count": 5,
   "id": "3fdbb279",
   "metadata": {},
   "outputs": [
    {
     "data": {
      "text/plain": [
       "(307511, 122)"
      ]
     },
     "execution_count": 5,
     "metadata": {},
     "output_type": "execute_result"
    }
   ],
   "source": [
    "app_df.shape"
   ]
  },
  {
   "cell_type": "code",
   "execution_count": 6,
   "id": "ad360d74",
   "metadata": {},
   "outputs": [
    {
     "data": {
      "text/html": [
       "<div>\n",
       "<style scoped>\n",
       "    .dataframe tbody tr th:only-of-type {\n",
       "        vertical-align: middle;\n",
       "    }\n",
       "\n",
       "    .dataframe tbody tr th {\n",
       "        vertical-align: top;\n",
       "    }\n",
       "\n",
       "    .dataframe thead th {\n",
       "        text-align: right;\n",
       "    }\n",
       "</style>\n",
       "<table border=\"1\" class=\"dataframe\">\n",
       "  <thead>\n",
       "    <tr style=\"text-align: right;\">\n",
       "      <th></th>\n",
       "      <th>SK_ID_CURR</th>\n",
       "      <th>TARGET</th>\n",
       "      <th>NAME_CONTRACT_TYPE</th>\n",
       "      <th>CODE_GENDER</th>\n",
       "      <th>FLAG_OWN_CAR</th>\n",
       "      <th>FLAG_OWN_REALTY</th>\n",
       "      <th>CNT_CHILDREN</th>\n",
       "      <th>AMT_INCOME_TOTAL</th>\n",
       "      <th>AMT_CREDIT</th>\n",
       "      <th>AMT_ANNUITY</th>\n",
       "      <th>...</th>\n",
       "      <th>FLAG_DOCUMENT_18</th>\n",
       "      <th>FLAG_DOCUMENT_19</th>\n",
       "      <th>FLAG_DOCUMENT_20</th>\n",
       "      <th>FLAG_DOCUMENT_21</th>\n",
       "      <th>AMT_REQ_CREDIT_BUREAU_HOUR</th>\n",
       "      <th>AMT_REQ_CREDIT_BUREAU_DAY</th>\n",
       "      <th>AMT_REQ_CREDIT_BUREAU_WEEK</th>\n",
       "      <th>AMT_REQ_CREDIT_BUREAU_MON</th>\n",
       "      <th>AMT_REQ_CREDIT_BUREAU_QRT</th>\n",
       "      <th>AMT_REQ_CREDIT_BUREAU_YEAR</th>\n",
       "    </tr>\n",
       "  </thead>\n",
       "  <tbody>\n",
       "    <tr>\n",
       "      <th>0</th>\n",
       "      <td>100002</td>\n",
       "      <td>1</td>\n",
       "      <td>Cash loans</td>\n",
       "      <td>M</td>\n",
       "      <td>N</td>\n",
       "      <td>Y</td>\n",
       "      <td>0</td>\n",
       "      <td>202500.00</td>\n",
       "      <td>406597.50</td>\n",
       "      <td>24700.50</td>\n",
       "      <td>...</td>\n",
       "      <td>0</td>\n",
       "      <td>0</td>\n",
       "      <td>0</td>\n",
       "      <td>0</td>\n",
       "      <td>0.00</td>\n",
       "      <td>0.00</td>\n",
       "      <td>0.00</td>\n",
       "      <td>0.00</td>\n",
       "      <td>0.00</td>\n",
       "      <td>1.00</td>\n",
       "    </tr>\n",
       "    <tr>\n",
       "      <th>1</th>\n",
       "      <td>100003</td>\n",
       "      <td>0</td>\n",
       "      <td>Cash loans</td>\n",
       "      <td>F</td>\n",
       "      <td>N</td>\n",
       "      <td>N</td>\n",
       "      <td>0</td>\n",
       "      <td>270000.00</td>\n",
       "      <td>1293502.50</td>\n",
       "      <td>35698.50</td>\n",
       "      <td>...</td>\n",
       "      <td>0</td>\n",
       "      <td>0</td>\n",
       "      <td>0</td>\n",
       "      <td>0</td>\n",
       "      <td>0.00</td>\n",
       "      <td>0.00</td>\n",
       "      <td>0.00</td>\n",
       "      <td>0.00</td>\n",
       "      <td>0.00</td>\n",
       "      <td>0.00</td>\n",
       "    </tr>\n",
       "    <tr>\n",
       "      <th>2</th>\n",
       "      <td>100004</td>\n",
       "      <td>0</td>\n",
       "      <td>Revolving loans</td>\n",
       "      <td>M</td>\n",
       "      <td>Y</td>\n",
       "      <td>Y</td>\n",
       "      <td>0</td>\n",
       "      <td>67500.00</td>\n",
       "      <td>135000.00</td>\n",
       "      <td>6750.00</td>\n",
       "      <td>...</td>\n",
       "      <td>0</td>\n",
       "      <td>0</td>\n",
       "      <td>0</td>\n",
       "      <td>0</td>\n",
       "      <td>0.00</td>\n",
       "      <td>0.00</td>\n",
       "      <td>0.00</td>\n",
       "      <td>0.00</td>\n",
       "      <td>0.00</td>\n",
       "      <td>0.00</td>\n",
       "    </tr>\n",
       "    <tr>\n",
       "      <th>3</th>\n",
       "      <td>100006</td>\n",
       "      <td>0</td>\n",
       "      <td>Cash loans</td>\n",
       "      <td>F</td>\n",
       "      <td>N</td>\n",
       "      <td>Y</td>\n",
       "      <td>0</td>\n",
       "      <td>135000.00</td>\n",
       "      <td>312682.50</td>\n",
       "      <td>29686.50</td>\n",
       "      <td>...</td>\n",
       "      <td>0</td>\n",
       "      <td>0</td>\n",
       "      <td>0</td>\n",
       "      <td>0</td>\n",
       "      <td>NaN</td>\n",
       "      <td>NaN</td>\n",
       "      <td>NaN</td>\n",
       "      <td>NaN</td>\n",
       "      <td>NaN</td>\n",
       "      <td>NaN</td>\n",
       "    </tr>\n",
       "    <tr>\n",
       "      <th>4</th>\n",
       "      <td>100007</td>\n",
       "      <td>0</td>\n",
       "      <td>Cash loans</td>\n",
       "      <td>M</td>\n",
       "      <td>N</td>\n",
       "      <td>Y</td>\n",
       "      <td>0</td>\n",
       "      <td>121500.00</td>\n",
       "      <td>513000.00</td>\n",
       "      <td>21865.50</td>\n",
       "      <td>...</td>\n",
       "      <td>0</td>\n",
       "      <td>0</td>\n",
       "      <td>0</td>\n",
       "      <td>0</td>\n",
       "      <td>0.00</td>\n",
       "      <td>0.00</td>\n",
       "      <td>0.00</td>\n",
       "      <td>0.00</td>\n",
       "      <td>0.00</td>\n",
       "      <td>0.00</td>\n",
       "    </tr>\n",
       "  </tbody>\n",
       "</table>\n",
       "<p>5 rows × 122 columns</p>\n",
       "</div>"
      ],
      "text/plain": [
       "   SK_ID_CURR  TARGET NAME_CONTRACT_TYPE CODE_GENDER FLAG_OWN_CAR  \\\n",
       "0      100002       1         Cash loans           M            N   \n",
       "1      100003       0         Cash loans           F            N   \n",
       "2      100004       0    Revolving loans           M            Y   \n",
       "3      100006       0         Cash loans           F            N   \n",
       "4      100007       0         Cash loans           M            N   \n",
       "\n",
       "  FLAG_OWN_REALTY  CNT_CHILDREN  AMT_INCOME_TOTAL  AMT_CREDIT  AMT_ANNUITY  \\\n",
       "0               Y             0         202500.00   406597.50     24700.50   \n",
       "1               N             0         270000.00  1293502.50     35698.50   \n",
       "2               Y             0          67500.00   135000.00      6750.00   \n",
       "3               Y             0         135000.00   312682.50     29686.50   \n",
       "4               Y             0         121500.00   513000.00     21865.50   \n",
       "\n",
       "   ...  FLAG_DOCUMENT_18 FLAG_DOCUMENT_19 FLAG_DOCUMENT_20 FLAG_DOCUMENT_21  \\\n",
       "0  ...                 0                0                0                0   \n",
       "1  ...                 0                0                0                0   \n",
       "2  ...                 0                0                0                0   \n",
       "3  ...                 0                0                0                0   \n",
       "4  ...                 0                0                0                0   \n",
       "\n",
       "  AMT_REQ_CREDIT_BUREAU_HOUR AMT_REQ_CREDIT_BUREAU_DAY  \\\n",
       "0                       0.00                      0.00   \n",
       "1                       0.00                      0.00   \n",
       "2                       0.00                      0.00   \n",
       "3                        NaN                       NaN   \n",
       "4                       0.00                      0.00   \n",
       "\n",
       "   AMT_REQ_CREDIT_BUREAU_WEEK  AMT_REQ_CREDIT_BUREAU_MON  \\\n",
       "0                        0.00                       0.00   \n",
       "1                        0.00                       0.00   \n",
       "2                        0.00                       0.00   \n",
       "3                         NaN                        NaN   \n",
       "4                        0.00                       0.00   \n",
       "\n",
       "   AMT_REQ_CREDIT_BUREAU_QRT  AMT_REQ_CREDIT_BUREAU_YEAR  \n",
       "0                       0.00                        1.00  \n",
       "1                       0.00                        0.00  \n",
       "2                       0.00                        0.00  \n",
       "3                        NaN                         NaN  \n",
       "4                       0.00                        0.00  \n",
       "\n",
       "[5 rows x 122 columns]"
      ]
     },
     "execution_count": 6,
     "metadata": {},
     "output_type": "execute_result"
    }
   ],
   "source": [
    "app_df.head()"
   ]
  },
  {
   "cell_type": "code",
   "execution_count": 7,
   "id": "e2298539",
   "metadata": {},
   "outputs": [
    {
     "data": {
      "text/html": [
       "<div>\n",
       "<style scoped>\n",
       "    .dataframe tbody tr th:only-of-type {\n",
       "        vertical-align: middle;\n",
       "    }\n",
       "\n",
       "    .dataframe tbody tr th {\n",
       "        vertical-align: top;\n",
       "    }\n",
       "\n",
       "    .dataframe thead th {\n",
       "        text-align: right;\n",
       "    }\n",
       "</style>\n",
       "<table border=\"1\" class=\"dataframe\">\n",
       "  <thead>\n",
       "    <tr style=\"text-align: right;\">\n",
       "      <th></th>\n",
       "      <th>SK_ID_PREV</th>\n",
       "      <th>SK_ID_CURR</th>\n",
       "      <th>NAME_CONTRACT_TYPE</th>\n",
       "      <th>AMT_ANNUITY</th>\n",
       "      <th>AMT_APPLICATION</th>\n",
       "      <th>AMT_CREDIT</th>\n",
       "      <th>AMT_DOWN_PAYMENT</th>\n",
       "      <th>AMT_GOODS_PRICE</th>\n",
       "      <th>WEEKDAY_APPR_PROCESS_START</th>\n",
       "      <th>HOUR_APPR_PROCESS_START</th>\n",
       "      <th>...</th>\n",
       "      <th>NAME_SELLER_INDUSTRY</th>\n",
       "      <th>CNT_PAYMENT</th>\n",
       "      <th>NAME_YIELD_GROUP</th>\n",
       "      <th>PRODUCT_COMBINATION</th>\n",
       "      <th>DAYS_FIRST_DRAWING</th>\n",
       "      <th>DAYS_FIRST_DUE</th>\n",
       "      <th>DAYS_LAST_DUE_1ST_VERSION</th>\n",
       "      <th>DAYS_LAST_DUE</th>\n",
       "      <th>DAYS_TERMINATION</th>\n",
       "      <th>NFLAG_INSURED_ON_APPROVAL</th>\n",
       "    </tr>\n",
       "  </thead>\n",
       "  <tbody>\n",
       "    <tr>\n",
       "      <th>0</th>\n",
       "      <td>2030495</td>\n",
       "      <td>271877</td>\n",
       "      <td>Consumer loans</td>\n",
       "      <td>1730.43</td>\n",
       "      <td>17145.00</td>\n",
       "      <td>17145.00</td>\n",
       "      <td>0.00</td>\n",
       "      <td>17145.00</td>\n",
       "      <td>SATURDAY</td>\n",
       "      <td>15</td>\n",
       "      <td>...</td>\n",
       "      <td>Connectivity</td>\n",
       "      <td>12.00</td>\n",
       "      <td>middle</td>\n",
       "      <td>POS mobile with interest</td>\n",
       "      <td>365243.00</td>\n",
       "      <td>-42.00</td>\n",
       "      <td>300.00</td>\n",
       "      <td>-42.00</td>\n",
       "      <td>-37.00</td>\n",
       "      <td>0.00</td>\n",
       "    </tr>\n",
       "    <tr>\n",
       "      <th>1</th>\n",
       "      <td>2802425</td>\n",
       "      <td>108129</td>\n",
       "      <td>Cash loans</td>\n",
       "      <td>25188.62</td>\n",
       "      <td>607500.00</td>\n",
       "      <td>679671.00</td>\n",
       "      <td>NaN</td>\n",
       "      <td>607500.00</td>\n",
       "      <td>THURSDAY</td>\n",
       "      <td>11</td>\n",
       "      <td>...</td>\n",
       "      <td>XNA</td>\n",
       "      <td>36.00</td>\n",
       "      <td>low_action</td>\n",
       "      <td>Cash X-Sell: low</td>\n",
       "      <td>365243.00</td>\n",
       "      <td>-134.00</td>\n",
       "      <td>916.00</td>\n",
       "      <td>365243.00</td>\n",
       "      <td>365243.00</td>\n",
       "      <td>1.00</td>\n",
       "    </tr>\n",
       "    <tr>\n",
       "      <th>2</th>\n",
       "      <td>2523466</td>\n",
       "      <td>122040</td>\n",
       "      <td>Cash loans</td>\n",
       "      <td>15060.74</td>\n",
       "      <td>112500.00</td>\n",
       "      <td>136444.50</td>\n",
       "      <td>NaN</td>\n",
       "      <td>112500.00</td>\n",
       "      <td>TUESDAY</td>\n",
       "      <td>11</td>\n",
       "      <td>...</td>\n",
       "      <td>XNA</td>\n",
       "      <td>12.00</td>\n",
       "      <td>high</td>\n",
       "      <td>Cash X-Sell: high</td>\n",
       "      <td>365243.00</td>\n",
       "      <td>-271.00</td>\n",
       "      <td>59.00</td>\n",
       "      <td>365243.00</td>\n",
       "      <td>365243.00</td>\n",
       "      <td>1.00</td>\n",
       "    </tr>\n",
       "    <tr>\n",
       "      <th>3</th>\n",
       "      <td>2819243</td>\n",
       "      <td>176158</td>\n",
       "      <td>Cash loans</td>\n",
       "      <td>47041.33</td>\n",
       "      <td>450000.00</td>\n",
       "      <td>470790.00</td>\n",
       "      <td>NaN</td>\n",
       "      <td>450000.00</td>\n",
       "      <td>MONDAY</td>\n",
       "      <td>7</td>\n",
       "      <td>...</td>\n",
       "      <td>XNA</td>\n",
       "      <td>12.00</td>\n",
       "      <td>middle</td>\n",
       "      <td>Cash X-Sell: middle</td>\n",
       "      <td>365243.00</td>\n",
       "      <td>-482.00</td>\n",
       "      <td>-152.00</td>\n",
       "      <td>-182.00</td>\n",
       "      <td>-177.00</td>\n",
       "      <td>1.00</td>\n",
       "    </tr>\n",
       "    <tr>\n",
       "      <th>4</th>\n",
       "      <td>1784265</td>\n",
       "      <td>202054</td>\n",
       "      <td>Cash loans</td>\n",
       "      <td>31924.40</td>\n",
       "      <td>337500.00</td>\n",
       "      <td>404055.00</td>\n",
       "      <td>NaN</td>\n",
       "      <td>337500.00</td>\n",
       "      <td>THURSDAY</td>\n",
       "      <td>9</td>\n",
       "      <td>...</td>\n",
       "      <td>XNA</td>\n",
       "      <td>24.00</td>\n",
       "      <td>high</td>\n",
       "      <td>Cash Street: high</td>\n",
       "      <td>NaN</td>\n",
       "      <td>NaN</td>\n",
       "      <td>NaN</td>\n",
       "      <td>NaN</td>\n",
       "      <td>NaN</td>\n",
       "      <td>NaN</td>\n",
       "    </tr>\n",
       "  </tbody>\n",
       "</table>\n",
       "<p>5 rows × 37 columns</p>\n",
       "</div>"
      ],
      "text/plain": [
       "   SK_ID_PREV  SK_ID_CURR NAME_CONTRACT_TYPE  AMT_ANNUITY  AMT_APPLICATION  \\\n",
       "0     2030495      271877     Consumer loans      1730.43         17145.00   \n",
       "1     2802425      108129         Cash loans     25188.62        607500.00   \n",
       "2     2523466      122040         Cash loans     15060.74        112500.00   \n",
       "3     2819243      176158         Cash loans     47041.33        450000.00   \n",
       "4     1784265      202054         Cash loans     31924.40        337500.00   \n",
       "\n",
       "   AMT_CREDIT  AMT_DOWN_PAYMENT  AMT_GOODS_PRICE WEEKDAY_APPR_PROCESS_START  \\\n",
       "0    17145.00              0.00         17145.00                   SATURDAY   \n",
       "1   679671.00               NaN        607500.00                   THURSDAY   \n",
       "2   136444.50               NaN        112500.00                    TUESDAY   \n",
       "3   470790.00               NaN        450000.00                     MONDAY   \n",
       "4   404055.00               NaN        337500.00                   THURSDAY   \n",
       "\n",
       "   HOUR_APPR_PROCESS_START  ... NAME_SELLER_INDUSTRY  CNT_PAYMENT  \\\n",
       "0                       15  ...         Connectivity        12.00   \n",
       "1                       11  ...                  XNA        36.00   \n",
       "2                       11  ...                  XNA        12.00   \n",
       "3                        7  ...                  XNA        12.00   \n",
       "4                        9  ...                  XNA        24.00   \n",
       "\n",
       "   NAME_YIELD_GROUP       PRODUCT_COMBINATION  DAYS_FIRST_DRAWING  \\\n",
       "0            middle  POS mobile with interest           365243.00   \n",
       "1        low_action          Cash X-Sell: low           365243.00   \n",
       "2              high         Cash X-Sell: high           365243.00   \n",
       "3            middle       Cash X-Sell: middle           365243.00   \n",
       "4              high         Cash Street: high                 NaN   \n",
       "\n",
       "  DAYS_FIRST_DUE DAYS_LAST_DUE_1ST_VERSION  DAYS_LAST_DUE DAYS_TERMINATION  \\\n",
       "0         -42.00                    300.00         -42.00           -37.00   \n",
       "1        -134.00                    916.00      365243.00        365243.00   \n",
       "2        -271.00                     59.00      365243.00        365243.00   \n",
       "3        -482.00                   -152.00        -182.00          -177.00   \n",
       "4            NaN                       NaN            NaN              NaN   \n",
       "\n",
       "  NFLAG_INSURED_ON_APPROVAL  \n",
       "0                      0.00  \n",
       "1                      1.00  \n",
       "2                      1.00  \n",
       "3                      1.00  \n",
       "4                       NaN  \n",
       "\n",
       "[5 rows x 37 columns]"
      ]
     },
     "execution_count": 7,
     "metadata": {},
     "output_type": "execute_result"
    }
   ],
   "source": [
    "pre_df.head()"
   ]
  },
  {
   "cell_type": "code",
   "execution_count": 8,
   "id": "7a987d18",
   "metadata": {},
   "outputs": [],
   "source": [
    "# drop unnecessary columns from 2 dataset\n",
    "app_df_2 = app_df.drop(columns=[\n",
    "    'EXT_SOURCE_1',\n",
    "    'EXT_SOURCE_2',\n",
    "    'EXT_SOURCE_3',\n",
    "    'APARTMENTS_AVG',\n",
    "    'BASEMENTAREA_AVG',\n",
    "    'YEARS_BEGINEXPLUATATION_AVG',\n",
    "    'YEARS_BUILD_AVG',\n",
    "    'COMMONAREA_AVG',\n",
    "    'ELEVATORS_AVG',\n",
    "    'ENTRANCES_AVG',\n",
    "    'FLOORSMAX_AVG',\n",
    "    'FLOORSMIN_AVG',\n",
    "    'LANDAREA_AVG',\n",
    "    'LIVINGAPARTMENTS_AVG',\n",
    "    'LIVINGAREA_AVG',\n",
    "    'NONLIVINGAPARTMENTS_AVG',\n",
    "    'NONLIVINGAREA_AVG',\n",
    "    'APARTMENTS_MODE',\n",
    "    'BASEMENTAREA_MODE',\n",
    "    'YEARS_BEGINEXPLUATATION_MODE',\n",
    "    'YEARS_BUILD_MODE',\n",
    "    'COMMONAREA_MODE',\n",
    "    'ELEVATORS_MODE',\n",
    "    'ENTRANCES_MODE',\n",
    "    'FLOORSMAX_MODE',\n",
    "    'FLOORSMIN_MODE',\n",
    "    'LANDAREA_MODE',\n",
    "    'LIVINGAPARTMENTS_MODE',\n",
    "    'LIVINGAREA_MODE',\n",
    "    'NONLIVINGAPARTMENTS_MODE',\n",
    "    'NONLIVINGAREA_MODE',\n",
    "    'APARTMENTS_MEDI',\n",
    "    'BASEMENTAREA_MEDI',\n",
    "    'YEARS_BEGINEXPLUATATION_MEDI',\n",
    "    'YEARS_BUILD_MEDI',\n",
    "    'COMMONAREA_MEDI',\n",
    "    'ELEVATORS_MEDI',\n",
    "    'ENTRANCES_MEDI',\n",
    "    'FLOORSMAX_MEDI',\n",
    "    'FLOORSMIN_MEDI',\n",
    "    'LANDAREA_MEDI',\n",
    "    'LIVINGAPARTMENTS_MEDI',\n",
    "    'LIVINGAREA_MEDI',\n",
    "    'NONLIVINGAPARTMENTS_MEDI',\n",
    "    'NONLIVINGAREA_MEDI',\n",
    "    'FONDKAPREMONT_MODE',\n",
    "    'HOUSETYPE_MODE',\n",
    "    'TOTALAREA_MODE',\n",
    "    'WALLSMATERIAL_MODE',\n",
    "    'EMERGENCYSTATE_MODE',\n",
    "    'OBS_30_CNT_SOCIAL_CIRCLE',\n",
    "    'DEF_30_CNT_SOCIAL_CIRCLE',\n",
    "    'OBS_60_CNT_SOCIAL_CIRCLE',\n",
    "    'DEF_60_CNT_SOCIAL_CIRCLE',\n",
    "    'DAYS_LAST_PHONE_CHANGE',\n",
    "    'FLAG_DOCUMENT_2',\n",
    "    'FLAG_DOCUMENT_3',\n",
    "    'FLAG_DOCUMENT_4',\n",
    "    'FLAG_DOCUMENT_5',\n",
    "    'FLAG_DOCUMENT_6',\n",
    "    'FLAG_DOCUMENT_7',\n",
    "    'FLAG_DOCUMENT_8',\n",
    "    'FLAG_DOCUMENT_9',\n",
    "    'FLAG_DOCUMENT_10',\n",
    "    'FLAG_DOCUMENT_11',\n",
    "    'FLAG_DOCUMENT_12',\n",
    "    'FLAG_DOCUMENT_13',\n",
    "    'FLAG_DOCUMENT_14',\n",
    "    'FLAG_DOCUMENT_15',\n",
    "    'FLAG_DOCUMENT_16',\n",
    "    'FLAG_DOCUMENT_17',\n",
    "    'FLAG_DOCUMENT_18',\n",
    "    'FLAG_DOCUMENT_19',\n",
    "    'FLAG_DOCUMENT_20',\n",
    "    'FLAG_DOCUMENT_21',\n",
    "    'AMT_REQ_CREDIT_BUREAU_HOUR',\n",
    "    'AMT_REQ_CREDIT_BUREAU_DAY',\n",
    "    'AMT_REQ_CREDIT_BUREAU_WEEK',\n",
    "    'AMT_REQ_CREDIT_BUREAU_MON',\n",
    "    'AMT_REQ_CREDIT_BUREAU_QRT',\n",
    "    'AMT_REQ_CREDIT_BUREAU_YEAR', ])\n",
    "\n"
   ]
  },
  {
   "cell_type": "code",
   "execution_count": 9,
   "id": "8a8a08c9",
   "metadata": {},
   "outputs": [],
   "source": [
    "pre_df_2 = pre_df.drop(columns=['WEEKDAY_APPR_PROCESS_START', 'HOUR_APPR_PROCESS_START', 'RATE_INTEREST_PRIVILEGED', \n",
    "                                'RATE_INTEREST_PRIMARY', 'RATE_DOWN_PAYMENT', 'FLAG_LAST_APPL_PER_CONTRACT', 'AMT_GOODS_PRICE',\n",
    "                                'AMT_DOWN_PAYMENT', 'NFLAG_LAST_APPL_IN_DAY', 'DAYS_DECISION', 'NAME_TYPE_SUITE', \n",
    "                                'NAME_GOODS_CATEGORY', 'SELLERPLACE_AREA', 'NAME_SELLER_INDUSTRY', 'CNT_PAYMENT', \n",
    "                                'PRODUCT_COMBINATION', 'DAYS_FIRST_DRAWING', 'DAYS_FIRST_DUE', 'DAYS_LAST_DUE_1ST_VERSION',\n",
    "                                'DAYS_LAST_DUE','DAYS_TERMINATION'])"
   ]
  },
  {
   "cell_type": "code",
   "execution_count": 10,
   "id": "97114a26",
   "metadata": {},
   "outputs": [
    {
     "data": {
      "text/html": [
       "<div>\n",
       "<style scoped>\n",
       "    .dataframe tbody tr th:only-of-type {\n",
       "        vertical-align: middle;\n",
       "    }\n",
       "\n",
       "    .dataframe tbody tr th {\n",
       "        vertical-align: top;\n",
       "    }\n",
       "\n",
       "    .dataframe thead th {\n",
       "        text-align: right;\n",
       "    }\n",
       "</style>\n",
       "<table border=\"1\" class=\"dataframe\">\n",
       "  <thead>\n",
       "    <tr style=\"text-align: right;\">\n",
       "      <th></th>\n",
       "      <th>SK_ID_PREV</th>\n",
       "      <th>SK_ID_CURR</th>\n",
       "      <th>NAME_CONTRACT_TYPE</th>\n",
       "      <th>AMT_ANNUITY</th>\n",
       "      <th>AMT_APPLICATION</th>\n",
       "      <th>AMT_CREDIT</th>\n",
       "      <th>NAME_CASH_LOAN_PURPOSE</th>\n",
       "      <th>NAME_CONTRACT_STATUS</th>\n",
       "      <th>NAME_PAYMENT_TYPE</th>\n",
       "      <th>CODE_REJECT_REASON</th>\n",
       "      <th>NAME_CLIENT_TYPE</th>\n",
       "      <th>NAME_PORTFOLIO</th>\n",
       "      <th>NAME_PRODUCT_TYPE</th>\n",
       "      <th>CHANNEL_TYPE</th>\n",
       "      <th>NAME_YIELD_GROUP</th>\n",
       "      <th>NFLAG_INSURED_ON_APPROVAL</th>\n",
       "    </tr>\n",
       "  </thead>\n",
       "  <tbody>\n",
       "    <tr>\n",
       "      <th>0</th>\n",
       "      <td>2030495</td>\n",
       "      <td>271877</td>\n",
       "      <td>Consumer loans</td>\n",
       "      <td>1730.43</td>\n",
       "      <td>17145.00</td>\n",
       "      <td>17145.00</td>\n",
       "      <td>XAP</td>\n",
       "      <td>Approved</td>\n",
       "      <td>Cash through the bank</td>\n",
       "      <td>XAP</td>\n",
       "      <td>Repeater</td>\n",
       "      <td>POS</td>\n",
       "      <td>XNA</td>\n",
       "      <td>Country-wide</td>\n",
       "      <td>middle</td>\n",
       "      <td>0.00</td>\n",
       "    </tr>\n",
       "    <tr>\n",
       "      <th>1</th>\n",
       "      <td>2802425</td>\n",
       "      <td>108129</td>\n",
       "      <td>Cash loans</td>\n",
       "      <td>25188.62</td>\n",
       "      <td>607500.00</td>\n",
       "      <td>679671.00</td>\n",
       "      <td>XNA</td>\n",
       "      <td>Approved</td>\n",
       "      <td>XNA</td>\n",
       "      <td>XAP</td>\n",
       "      <td>Repeater</td>\n",
       "      <td>Cash</td>\n",
       "      <td>x-sell</td>\n",
       "      <td>Contact center</td>\n",
       "      <td>low_action</td>\n",
       "      <td>1.00</td>\n",
       "    </tr>\n",
       "    <tr>\n",
       "      <th>2</th>\n",
       "      <td>2523466</td>\n",
       "      <td>122040</td>\n",
       "      <td>Cash loans</td>\n",
       "      <td>15060.74</td>\n",
       "      <td>112500.00</td>\n",
       "      <td>136444.50</td>\n",
       "      <td>XNA</td>\n",
       "      <td>Approved</td>\n",
       "      <td>Cash through the bank</td>\n",
       "      <td>XAP</td>\n",
       "      <td>Repeater</td>\n",
       "      <td>Cash</td>\n",
       "      <td>x-sell</td>\n",
       "      <td>Credit and cash offices</td>\n",
       "      <td>high</td>\n",
       "      <td>1.00</td>\n",
       "    </tr>\n",
       "    <tr>\n",
       "      <th>3</th>\n",
       "      <td>2819243</td>\n",
       "      <td>176158</td>\n",
       "      <td>Cash loans</td>\n",
       "      <td>47041.33</td>\n",
       "      <td>450000.00</td>\n",
       "      <td>470790.00</td>\n",
       "      <td>XNA</td>\n",
       "      <td>Approved</td>\n",
       "      <td>Cash through the bank</td>\n",
       "      <td>XAP</td>\n",
       "      <td>Repeater</td>\n",
       "      <td>Cash</td>\n",
       "      <td>x-sell</td>\n",
       "      <td>Credit and cash offices</td>\n",
       "      <td>middle</td>\n",
       "      <td>1.00</td>\n",
       "    </tr>\n",
       "    <tr>\n",
       "      <th>4</th>\n",
       "      <td>1784265</td>\n",
       "      <td>202054</td>\n",
       "      <td>Cash loans</td>\n",
       "      <td>31924.40</td>\n",
       "      <td>337500.00</td>\n",
       "      <td>404055.00</td>\n",
       "      <td>Repairs</td>\n",
       "      <td>Refused</td>\n",
       "      <td>Cash through the bank</td>\n",
       "      <td>HC</td>\n",
       "      <td>Repeater</td>\n",
       "      <td>Cash</td>\n",
       "      <td>walk-in</td>\n",
       "      <td>Credit and cash offices</td>\n",
       "      <td>high</td>\n",
       "      <td>NaN</td>\n",
       "    </tr>\n",
       "  </tbody>\n",
       "</table>\n",
       "</div>"
      ],
      "text/plain": [
       "   SK_ID_PREV  SK_ID_CURR NAME_CONTRACT_TYPE  AMT_ANNUITY  AMT_APPLICATION  \\\n",
       "0     2030495      271877     Consumer loans      1730.43         17145.00   \n",
       "1     2802425      108129         Cash loans     25188.62        607500.00   \n",
       "2     2523466      122040         Cash loans     15060.74        112500.00   \n",
       "3     2819243      176158         Cash loans     47041.33        450000.00   \n",
       "4     1784265      202054         Cash loans     31924.40        337500.00   \n",
       "\n",
       "   AMT_CREDIT NAME_CASH_LOAN_PURPOSE NAME_CONTRACT_STATUS  \\\n",
       "0    17145.00                    XAP             Approved   \n",
       "1   679671.00                    XNA             Approved   \n",
       "2   136444.50                    XNA             Approved   \n",
       "3   470790.00                    XNA             Approved   \n",
       "4   404055.00                Repairs              Refused   \n",
       "\n",
       "       NAME_PAYMENT_TYPE CODE_REJECT_REASON NAME_CLIENT_TYPE NAME_PORTFOLIO  \\\n",
       "0  Cash through the bank                XAP         Repeater            POS   \n",
       "1                    XNA                XAP         Repeater           Cash   \n",
       "2  Cash through the bank                XAP         Repeater           Cash   \n",
       "3  Cash through the bank                XAP         Repeater           Cash   \n",
       "4  Cash through the bank                 HC         Repeater           Cash   \n",
       "\n",
       "  NAME_PRODUCT_TYPE             CHANNEL_TYPE NAME_YIELD_GROUP  \\\n",
       "0               XNA             Country-wide           middle   \n",
       "1            x-sell           Contact center       low_action   \n",
       "2            x-sell  Credit and cash offices             high   \n",
       "3            x-sell  Credit and cash offices           middle   \n",
       "4           walk-in  Credit and cash offices             high   \n",
       "\n",
       "   NFLAG_INSURED_ON_APPROVAL  \n",
       "0                       0.00  \n",
       "1                       1.00  \n",
       "2                       1.00  \n",
       "3                       1.00  \n",
       "4                        NaN  "
      ]
     },
     "execution_count": 10,
     "metadata": {},
     "output_type": "execute_result"
    }
   ],
   "source": [
    "pre_df_2.head()"
   ]
  },
  {
   "cell_type": "code",
   "execution_count": 11,
   "id": "7afaf55b",
   "metadata": {},
   "outputs": [
    {
     "data": {
      "text/html": [
       "<div>\n",
       "<style scoped>\n",
       "    .dataframe tbody tr th:only-of-type {\n",
       "        vertical-align: middle;\n",
       "    }\n",
       "\n",
       "    .dataframe tbody tr th {\n",
       "        vertical-align: top;\n",
       "    }\n",
       "\n",
       "    .dataframe thead th {\n",
       "        text-align: right;\n",
       "    }\n",
       "</style>\n",
       "<table border=\"1\" class=\"dataframe\">\n",
       "  <thead>\n",
       "    <tr style=\"text-align: right;\">\n",
       "      <th></th>\n",
       "      <th>SK_ID_CURR</th>\n",
       "      <th>TARGET</th>\n",
       "      <th>NAME_CONTRACT_TYPE</th>\n",
       "      <th>CODE_GENDER</th>\n",
       "      <th>FLAG_OWN_CAR</th>\n",
       "      <th>FLAG_OWN_REALTY</th>\n",
       "      <th>CNT_CHILDREN</th>\n",
       "      <th>AMT_INCOME_TOTAL</th>\n",
       "      <th>AMT_CREDIT</th>\n",
       "      <th>AMT_ANNUITY</th>\n",
       "      <th>...</th>\n",
       "      <th>REGION_RATING_CLIENT_W_CITY</th>\n",
       "      <th>WEEKDAY_APPR_PROCESS_START</th>\n",
       "      <th>HOUR_APPR_PROCESS_START</th>\n",
       "      <th>REG_REGION_NOT_LIVE_REGION</th>\n",
       "      <th>REG_REGION_NOT_WORK_REGION</th>\n",
       "      <th>LIVE_REGION_NOT_WORK_REGION</th>\n",
       "      <th>REG_CITY_NOT_LIVE_CITY</th>\n",
       "      <th>REG_CITY_NOT_WORK_CITY</th>\n",
       "      <th>LIVE_CITY_NOT_WORK_CITY</th>\n",
       "      <th>ORGANIZATION_TYPE</th>\n",
       "    </tr>\n",
       "  </thead>\n",
       "  <tbody>\n",
       "    <tr>\n",
       "      <th>0</th>\n",
       "      <td>100002</td>\n",
       "      <td>1</td>\n",
       "      <td>Cash loans</td>\n",
       "      <td>M</td>\n",
       "      <td>N</td>\n",
       "      <td>Y</td>\n",
       "      <td>0</td>\n",
       "      <td>202500.00</td>\n",
       "      <td>406597.50</td>\n",
       "      <td>24700.50</td>\n",
       "      <td>...</td>\n",
       "      <td>2</td>\n",
       "      <td>WEDNESDAY</td>\n",
       "      <td>10</td>\n",
       "      <td>0</td>\n",
       "      <td>0</td>\n",
       "      <td>0</td>\n",
       "      <td>0</td>\n",
       "      <td>0</td>\n",
       "      <td>0</td>\n",
       "      <td>Business Entity Type 3</td>\n",
       "    </tr>\n",
       "    <tr>\n",
       "      <th>1</th>\n",
       "      <td>100003</td>\n",
       "      <td>0</td>\n",
       "      <td>Cash loans</td>\n",
       "      <td>F</td>\n",
       "      <td>N</td>\n",
       "      <td>N</td>\n",
       "      <td>0</td>\n",
       "      <td>270000.00</td>\n",
       "      <td>1293502.50</td>\n",
       "      <td>35698.50</td>\n",
       "      <td>...</td>\n",
       "      <td>1</td>\n",
       "      <td>MONDAY</td>\n",
       "      <td>11</td>\n",
       "      <td>0</td>\n",
       "      <td>0</td>\n",
       "      <td>0</td>\n",
       "      <td>0</td>\n",
       "      <td>0</td>\n",
       "      <td>0</td>\n",
       "      <td>School</td>\n",
       "    </tr>\n",
       "    <tr>\n",
       "      <th>2</th>\n",
       "      <td>100004</td>\n",
       "      <td>0</td>\n",
       "      <td>Revolving loans</td>\n",
       "      <td>M</td>\n",
       "      <td>Y</td>\n",
       "      <td>Y</td>\n",
       "      <td>0</td>\n",
       "      <td>67500.00</td>\n",
       "      <td>135000.00</td>\n",
       "      <td>6750.00</td>\n",
       "      <td>...</td>\n",
       "      <td>2</td>\n",
       "      <td>MONDAY</td>\n",
       "      <td>9</td>\n",
       "      <td>0</td>\n",
       "      <td>0</td>\n",
       "      <td>0</td>\n",
       "      <td>0</td>\n",
       "      <td>0</td>\n",
       "      <td>0</td>\n",
       "      <td>Government</td>\n",
       "    </tr>\n",
       "    <tr>\n",
       "      <th>3</th>\n",
       "      <td>100006</td>\n",
       "      <td>0</td>\n",
       "      <td>Cash loans</td>\n",
       "      <td>F</td>\n",
       "      <td>N</td>\n",
       "      <td>Y</td>\n",
       "      <td>0</td>\n",
       "      <td>135000.00</td>\n",
       "      <td>312682.50</td>\n",
       "      <td>29686.50</td>\n",
       "      <td>...</td>\n",
       "      <td>2</td>\n",
       "      <td>WEDNESDAY</td>\n",
       "      <td>17</td>\n",
       "      <td>0</td>\n",
       "      <td>0</td>\n",
       "      <td>0</td>\n",
       "      <td>0</td>\n",
       "      <td>0</td>\n",
       "      <td>0</td>\n",
       "      <td>Business Entity Type 3</td>\n",
       "    </tr>\n",
       "    <tr>\n",
       "      <th>4</th>\n",
       "      <td>100007</td>\n",
       "      <td>0</td>\n",
       "      <td>Cash loans</td>\n",
       "      <td>M</td>\n",
       "      <td>N</td>\n",
       "      <td>Y</td>\n",
       "      <td>0</td>\n",
       "      <td>121500.00</td>\n",
       "      <td>513000.00</td>\n",
       "      <td>21865.50</td>\n",
       "      <td>...</td>\n",
       "      <td>2</td>\n",
       "      <td>THURSDAY</td>\n",
       "      <td>11</td>\n",
       "      <td>0</td>\n",
       "      <td>0</td>\n",
       "      <td>0</td>\n",
       "      <td>0</td>\n",
       "      <td>1</td>\n",
       "      <td>1</td>\n",
       "      <td>Religion</td>\n",
       "    </tr>\n",
       "  </tbody>\n",
       "</table>\n",
       "<p>5 rows × 41 columns</p>\n",
       "</div>"
      ],
      "text/plain": [
       "   SK_ID_CURR  TARGET NAME_CONTRACT_TYPE CODE_GENDER FLAG_OWN_CAR  \\\n",
       "0      100002       1         Cash loans           M            N   \n",
       "1      100003       0         Cash loans           F            N   \n",
       "2      100004       0    Revolving loans           M            Y   \n",
       "3      100006       0         Cash loans           F            N   \n",
       "4      100007       0         Cash loans           M            N   \n",
       "\n",
       "  FLAG_OWN_REALTY  CNT_CHILDREN  AMT_INCOME_TOTAL  AMT_CREDIT  AMT_ANNUITY  \\\n",
       "0               Y             0         202500.00   406597.50     24700.50   \n",
       "1               N             0         270000.00  1293502.50     35698.50   \n",
       "2               Y             0          67500.00   135000.00      6750.00   \n",
       "3               Y             0         135000.00   312682.50     29686.50   \n",
       "4               Y             0         121500.00   513000.00     21865.50   \n",
       "\n",
       "   ...  REGION_RATING_CLIENT_W_CITY WEEKDAY_APPR_PROCESS_START  \\\n",
       "0  ...                            2                  WEDNESDAY   \n",
       "1  ...                            1                     MONDAY   \n",
       "2  ...                            2                     MONDAY   \n",
       "3  ...                            2                  WEDNESDAY   \n",
       "4  ...                            2                   THURSDAY   \n",
       "\n",
       "  HOUR_APPR_PROCESS_START REG_REGION_NOT_LIVE_REGION  \\\n",
       "0                      10                          0   \n",
       "1                      11                          0   \n",
       "2                       9                          0   \n",
       "3                      17                          0   \n",
       "4                      11                          0   \n",
       "\n",
       "  REG_REGION_NOT_WORK_REGION LIVE_REGION_NOT_WORK_REGION  \\\n",
       "0                          0                           0   \n",
       "1                          0                           0   \n",
       "2                          0                           0   \n",
       "3                          0                           0   \n",
       "4                          0                           0   \n",
       "\n",
       "   REG_CITY_NOT_LIVE_CITY  REG_CITY_NOT_WORK_CITY  LIVE_CITY_NOT_WORK_CITY  \\\n",
       "0                       0                       0                        0   \n",
       "1                       0                       0                        0   \n",
       "2                       0                       0                        0   \n",
       "3                       0                       0                        0   \n",
       "4                       0                       1                        1   \n",
       "\n",
       "        ORGANIZATION_TYPE  \n",
       "0  Business Entity Type 3  \n",
       "1                  School  \n",
       "2              Government  \n",
       "3  Business Entity Type 3  \n",
       "4                Religion  \n",
       "\n",
       "[5 rows x 41 columns]"
      ]
     },
     "execution_count": 11,
     "metadata": {},
     "output_type": "execute_result"
    }
   ],
   "source": [
    "app_df_2.head()"
   ]
  },
  {
   "cell_type": "markdown",
   "id": "4cb372e7",
   "metadata": {},
   "source": []
  },
  {
   "cell_type": "code",
   "execution_count": 12,
   "id": "f258b2ee",
   "metadata": {},
   "outputs": [
    {
     "name": "stdout",
     "output_type": "stream",
     "text": [
      "<class 'pandas.core.frame.DataFrame'>\n",
      "RangeIndex: 307511 entries, 0 to 307510\n",
      "Data columns (total 41 columns):\n",
      " #   Column                       Non-Null Count   Dtype  \n",
      "---  ------                       --------------   -----  \n",
      " 0   SK_ID_CURR                   307511 non-null  int64  \n",
      " 1   TARGET                       307511 non-null  int64  \n",
      " 2   NAME_CONTRACT_TYPE           307511 non-null  object \n",
      " 3   CODE_GENDER                  307511 non-null  object \n",
      " 4   FLAG_OWN_CAR                 307511 non-null  object \n",
      " 5   FLAG_OWN_REALTY              307511 non-null  object \n",
      " 6   CNT_CHILDREN                 307511 non-null  int64  \n",
      " 7   AMT_INCOME_TOTAL             307511 non-null  float64\n",
      " 8   AMT_CREDIT                   307511 non-null  float64\n",
      " 9   AMT_ANNUITY                  307499 non-null  float64\n",
      " 10  AMT_GOODS_PRICE              307233 non-null  float64\n",
      " 11  NAME_TYPE_SUITE              306219 non-null  object \n",
      " 12  NAME_INCOME_TYPE             307511 non-null  object \n",
      " 13  NAME_EDUCATION_TYPE          307511 non-null  object \n",
      " 14  NAME_FAMILY_STATUS           307511 non-null  object \n",
      " 15  NAME_HOUSING_TYPE            307511 non-null  object \n",
      " 16  REGION_POPULATION_RELATIVE   307511 non-null  float64\n",
      " 17  DAYS_BIRTH                   307511 non-null  int64  \n",
      " 18  DAYS_EMPLOYED                307511 non-null  int64  \n",
      " 19  DAYS_REGISTRATION            307511 non-null  float64\n",
      " 20  DAYS_ID_PUBLISH              307511 non-null  int64  \n",
      " 21  OWN_CAR_AGE                  104582 non-null  float64\n",
      " 22  FLAG_MOBIL                   307511 non-null  int64  \n",
      " 23  FLAG_EMP_PHONE               307511 non-null  int64  \n",
      " 24  FLAG_WORK_PHONE              307511 non-null  int64  \n",
      " 25  FLAG_CONT_MOBILE             307511 non-null  int64  \n",
      " 26  FLAG_PHONE                   307511 non-null  int64  \n",
      " 27  FLAG_EMAIL                   307511 non-null  int64  \n",
      " 28  OCCUPATION_TYPE              211120 non-null  object \n",
      " 29  CNT_FAM_MEMBERS              307509 non-null  float64\n",
      " 30  REGION_RATING_CLIENT         307511 non-null  int64  \n",
      " 31  REGION_RATING_CLIENT_W_CITY  307511 non-null  int64  \n",
      " 32  WEEKDAY_APPR_PROCESS_START   307511 non-null  object \n",
      " 33  HOUR_APPR_PROCESS_START      307511 non-null  int64  \n",
      " 34  REG_REGION_NOT_LIVE_REGION   307511 non-null  int64  \n",
      " 35  REG_REGION_NOT_WORK_REGION   307511 non-null  int64  \n",
      " 36  LIVE_REGION_NOT_WORK_REGION  307511 non-null  int64  \n",
      " 37  REG_CITY_NOT_LIVE_CITY       307511 non-null  int64  \n",
      " 38  REG_CITY_NOT_WORK_CITY       307511 non-null  int64  \n",
      " 39  LIVE_CITY_NOT_WORK_CITY      307511 non-null  int64  \n",
      " 40  ORGANIZATION_TYPE            307511 non-null  object \n",
      "dtypes: float64(8), int64(21), object(12)\n",
      "memory usage: 96.2+ MB\n"
     ]
    }
   ],
   "source": [
    "# Check colums and data type \n",
    "app_df_2.info()"
   ]
  },
  {
   "cell_type": "markdown",
   "id": "3bfdbd58",
   "metadata": {},
   "source": [
    "handling missing values in AMT_ANNUITY column.\n",
    "\n",
    "AMT_GOODS_PRICE   \n",
    "NAME_TYPE_SUITE   \n",
    "OWN_CAR_AGE \n",
    "OCCUPATION_TYPE   \n",
    "CNT_FAM_MEMBERS \n"
   ]
  },
  {
   "cell_type": "markdown",
   "id": "0a2bd225",
   "metadata": {},
   "source": [
    "### map with previous application status "
   ]
  },
  {
   "cell_type": "code",
   "execution_count": 13,
   "id": "3939740b",
   "metadata": {},
   "outputs": [],
   "source": [
    "# 1 current application has more than one previous application,\n",
    "# therefore, we need calculate before merge 2 dataframes\n",
    "status_stats = pd.pivot_table(pre_df, values= 'SK_ID_PREV',\n",
    "                              index= ['SK_ID_CURR'],\n",
    "                              columns= ['NAME_CONTRACT_STATUS'],\n",
    "                              aggfunc= lambda x: len(x.unique()))"
   ]
  },
  {
   "cell_type": "code",
   "execution_count": 14,
   "id": "363fb28c",
   "metadata": {},
   "outputs": [],
   "source": [
    "status_stats.reset_index(inplace=True)"
   ]
  },
  {
   "cell_type": "code",
   "execution_count": 15,
   "id": "b3fe647f",
   "metadata": {},
   "outputs": [],
   "source": [
    "status_stats.replace(np.nan, 0, inplace=True)"
   ]
  },
  {
   "cell_type": "code",
   "execution_count": 16,
   "id": "8dacd689",
   "metadata": {},
   "outputs": [
    {
     "data": {
      "text/html": [
       "<div>\n",
       "<style scoped>\n",
       "    .dataframe tbody tr th:only-of-type {\n",
       "        vertical-align: middle;\n",
       "    }\n",
       "\n",
       "    .dataframe tbody tr th {\n",
       "        vertical-align: top;\n",
       "    }\n",
       "\n",
       "    .dataframe thead th {\n",
       "        text-align: right;\n",
       "    }\n",
       "</style>\n",
       "<table border=\"1\" class=\"dataframe\">\n",
       "  <thead>\n",
       "    <tr style=\"text-align: right;\">\n",
       "      <th>NAME_CONTRACT_STATUS</th>\n",
       "      <th>SK_ID_CURR</th>\n",
       "      <th>Approved</th>\n",
       "      <th>Canceled</th>\n",
       "      <th>Refused</th>\n",
       "      <th>Unused offer</th>\n",
       "    </tr>\n",
       "  </thead>\n",
       "  <tbody>\n",
       "    <tr>\n",
       "      <th>0</th>\n",
       "      <td>100001</td>\n",
       "      <td>1.00</td>\n",
       "      <td>0.00</td>\n",
       "      <td>0.00</td>\n",
       "      <td>0.00</td>\n",
       "    </tr>\n",
       "    <tr>\n",
       "      <th>1</th>\n",
       "      <td>100002</td>\n",
       "      <td>1.00</td>\n",
       "      <td>0.00</td>\n",
       "      <td>0.00</td>\n",
       "      <td>0.00</td>\n",
       "    </tr>\n",
       "    <tr>\n",
       "      <th>2</th>\n",
       "      <td>100003</td>\n",
       "      <td>3.00</td>\n",
       "      <td>0.00</td>\n",
       "      <td>0.00</td>\n",
       "      <td>0.00</td>\n",
       "    </tr>\n",
       "    <tr>\n",
       "      <th>3</th>\n",
       "      <td>100004</td>\n",
       "      <td>1.00</td>\n",
       "      <td>0.00</td>\n",
       "      <td>0.00</td>\n",
       "      <td>0.00</td>\n",
       "    </tr>\n",
       "    <tr>\n",
       "      <th>4</th>\n",
       "      <td>100005</td>\n",
       "      <td>1.00</td>\n",
       "      <td>1.00</td>\n",
       "      <td>0.00</td>\n",
       "      <td>0.00</td>\n",
       "    </tr>\n",
       "    <tr>\n",
       "      <th>...</th>\n",
       "      <td>...</td>\n",
       "      <td>...</td>\n",
       "      <td>...</td>\n",
       "      <td>...</td>\n",
       "      <td>...</td>\n",
       "    </tr>\n",
       "    <tr>\n",
       "      <th>338852</th>\n",
       "      <td>456251</td>\n",
       "      <td>1.00</td>\n",
       "      <td>0.00</td>\n",
       "      <td>0.00</td>\n",
       "      <td>0.00</td>\n",
       "    </tr>\n",
       "    <tr>\n",
       "      <th>338853</th>\n",
       "      <td>456252</td>\n",
       "      <td>1.00</td>\n",
       "      <td>0.00</td>\n",
       "      <td>0.00</td>\n",
       "      <td>0.00</td>\n",
       "    </tr>\n",
       "    <tr>\n",
       "      <th>338854</th>\n",
       "      <td>456253</td>\n",
       "      <td>2.00</td>\n",
       "      <td>0.00</td>\n",
       "      <td>0.00</td>\n",
       "      <td>0.00</td>\n",
       "    </tr>\n",
       "    <tr>\n",
       "      <th>338855</th>\n",
       "      <td>456254</td>\n",
       "      <td>2.00</td>\n",
       "      <td>0.00</td>\n",
       "      <td>0.00</td>\n",
       "      <td>0.00</td>\n",
       "    </tr>\n",
       "    <tr>\n",
       "      <th>338856</th>\n",
       "      <td>456255</td>\n",
       "      <td>6.00</td>\n",
       "      <td>0.00</td>\n",
       "      <td>2.00</td>\n",
       "      <td>0.00</td>\n",
       "    </tr>\n",
       "  </tbody>\n",
       "</table>\n",
       "<p>338857 rows × 5 columns</p>\n",
       "</div>"
      ],
      "text/plain": [
       "NAME_CONTRACT_STATUS  SK_ID_CURR  Approved  Canceled  Refused  Unused offer\n",
       "0                         100001      1.00      0.00     0.00          0.00\n",
       "1                         100002      1.00      0.00     0.00          0.00\n",
       "2                         100003      3.00      0.00     0.00          0.00\n",
       "3                         100004      1.00      0.00     0.00          0.00\n",
       "4                         100005      1.00      1.00     0.00          0.00\n",
       "...                          ...       ...       ...      ...           ...\n",
       "338852                    456251      1.00      0.00     0.00          0.00\n",
       "338853                    456252      1.00      0.00     0.00          0.00\n",
       "338854                    456253      2.00      0.00     0.00          0.00\n",
       "338855                    456254      2.00      0.00     0.00          0.00\n",
       "338856                    456255      6.00      0.00     2.00          0.00\n",
       "\n",
       "[338857 rows x 5 columns]"
      ]
     },
     "execution_count": 16,
     "metadata": {},
     "output_type": "execute_result"
    }
   ],
   "source": [
    "status_stats"
   ]
  },
  {
   "cell_type": "code",
   "execution_count": 17,
   "id": "142548ac",
   "metadata": {},
   "outputs": [],
   "source": [
    "app_df_2 = pd.merge(app_df_2, status_stats,\n",
    "                   how='left',\n",
    "                   left_on='SK_ID_CURR',\n",
    "                   right_on='SK_ID_CURR')"
   ]
  },
  {
   "cell_type": "code",
   "execution_count": 18,
   "id": "2658b0d7",
   "metadata": {},
   "outputs": [
    {
     "data": {
      "text/plain": [
       "(307511, 45)"
      ]
     },
     "execution_count": 18,
     "metadata": {},
     "output_type": "execute_result"
    }
   ],
   "source": [
    "app_df_2.shape"
   ]
  },
  {
   "cell_type": "code",
   "execution_count": null,
   "id": "aee7186e",
   "metadata": {},
   "outputs": [],
   "source": []
  },
  {
   "cell_type": "markdown",
   "id": "dcfb3b4d",
   "metadata": {},
   "source": [
    "### checking column missing values"
   ]
  },
  {
   "cell_type": "code",
   "execution_count": 19,
   "id": "c17fc9df",
   "metadata": {},
   "outputs": [
    {
     "data": {
      "text/plain": [
       "SK_ID_CURR                          0\n",
       "TARGET                              0\n",
       "NAME_CONTRACT_TYPE                  0\n",
       "CODE_GENDER                         0\n",
       "FLAG_OWN_CAR                        0\n",
       "FLAG_OWN_REALTY                     0\n",
       "CNT_CHILDREN                        0\n",
       "AMT_INCOME_TOTAL                    0\n",
       "AMT_CREDIT                          0\n",
       "AMT_ANNUITY                        12\n",
       "AMT_GOODS_PRICE                   278\n",
       "NAME_TYPE_SUITE                  1292\n",
       "NAME_INCOME_TYPE                    0\n",
       "NAME_EDUCATION_TYPE                 0\n",
       "NAME_FAMILY_STATUS                  0\n",
       "NAME_HOUSING_TYPE                   0\n",
       "REGION_POPULATION_RELATIVE          0\n",
       "DAYS_BIRTH                          0\n",
       "DAYS_EMPLOYED                       0\n",
       "DAYS_REGISTRATION                   0\n",
       "DAYS_ID_PUBLISH                     0\n",
       "OWN_CAR_AGE                    202929\n",
       "FLAG_MOBIL                          0\n",
       "FLAG_EMP_PHONE                      0\n",
       "FLAG_WORK_PHONE                     0\n",
       "FLAG_CONT_MOBILE                    0\n",
       "FLAG_PHONE                          0\n",
       "FLAG_EMAIL                          0\n",
       "OCCUPATION_TYPE                 96391\n",
       "CNT_FAM_MEMBERS                     2\n",
       "REGION_RATING_CLIENT                0\n",
       "REGION_RATING_CLIENT_W_CITY         0\n",
       "WEEKDAY_APPR_PROCESS_START          0\n",
       "HOUR_APPR_PROCESS_START             0\n",
       "REG_REGION_NOT_LIVE_REGION          0\n",
       "REG_REGION_NOT_WORK_REGION          0\n",
       "LIVE_REGION_NOT_WORK_REGION         0\n",
       "REG_CITY_NOT_LIVE_CITY              0\n",
       "REG_CITY_NOT_WORK_CITY              0\n",
       "LIVE_CITY_NOT_WORK_CITY             0\n",
       "ORGANIZATION_TYPE                   0\n",
       "Approved                        16454\n",
       "Canceled                        16454\n",
       "Refused                         16454\n",
       "Unused offer                    16454\n",
       "dtype: int64"
      ]
     },
     "execution_count": 19,
     "metadata": {},
     "output_type": "execute_result"
    }
   ],
   "source": [
    "#count the missing values\n",
    "app_df_2.isnull().sum()"
   ]
  },
  {
   "cell_type": "markdown",
   "id": "bb519776",
   "metadata": {},
   "source": [
    "### handling missing values"
   ]
  },
  {
   "cell_type": "code",
   "execution_count": 20,
   "id": "7ccc23c9",
   "metadata": {},
   "outputs": [
    {
     "data": {
      "text/plain": [
       "0.003902299429939092"
      ]
     },
     "execution_count": 20,
     "metadata": {},
     "output_type": "execute_result"
    }
   ],
   "source": [
    "#calculate the percentage of missing values in AMT_ANNUITY column.\n",
    "12/307511*100"
   ]
  },
  {
   "cell_type": "code",
   "execution_count": 21,
   "id": "fa07824f",
   "metadata": {},
   "outputs": [],
   "source": [
    "# drop records with AMT_ANNUITY missing\n",
    "app_df_2 = app_df_2[~app_df_2['AMT_ANNUITY'].isnull()]"
   ]
  },
  {
   "cell_type": "code",
   "execution_count": 22,
   "id": "7591d4fe",
   "metadata": {},
   "outputs": [
    {
     "data": {
      "text/plain": [
       "0.09040327012692229"
      ]
     },
     "execution_count": 22,
     "metadata": {},
     "output_type": "execute_result"
    }
   ],
   "source": [
    "#calculate the percentage of missing values in AMT_GOODS_PRICE column.\n",
    "278/307511*100"
   ]
  },
  {
   "cell_type": "code",
   "execution_count": 23,
   "id": "c32f7dce",
   "metadata": {},
   "outputs": [],
   "source": [
    "# drop records with AMT_GOODS_PRICE missing\n",
    "app_df_2 = app_df_2[~app_df_2['AMT_GOODS_PRICE'].isnull()]"
   ]
  },
  {
   "cell_type": "code",
   "execution_count": 24,
   "id": "2be83936",
   "metadata": {},
   "outputs": [
    {
     "data": {
      "text/plain": [
       "0.42014757195677555"
      ]
     },
     "execution_count": 24,
     "metadata": {},
     "output_type": "execute_result"
    }
   ],
   "source": [
    "#calculate the percentage of missing values in NAME_TYPE_SUITE column.\n",
    "1292/307511*100"
   ]
  },
  {
   "cell_type": "code",
   "execution_count": 25,
   "id": "a611759e",
   "metadata": {},
   "outputs": [],
   "source": [
    "# drop records with NAME_TYPE_SUITE missing\n",
    "app_df_2 = app_df_2[~app_df_2['NAME_TYPE_SUITE'].isnull()]"
   ]
  },
  {
   "cell_type": "code",
   "execution_count": 26,
   "id": "9de408ff",
   "metadata": {},
   "outputs": [
    {
     "data": {
      "text/plain": [
       "65.9908100848425"
      ]
     },
     "execution_count": 26,
     "metadata": {},
     "output_type": "execute_result"
    }
   ],
   "source": [
    "#calculate the percentage of missing values in OWN_CAR_AGE column.\n",
    "202929/307511*100"
   ]
  },
  {
   "cell_type": "code",
   "execution_count": 27,
   "id": "b25a6f80",
   "metadata": {},
   "outputs": [],
   "source": [
    "# The values of column OWN_CAR_AGE is missing at more than 66%, this is Missing not at random (MNAR)\n",
    "# Age of client's car - mean 66% of customers do not own car.\n",
    "# replace the missing values with 0.\n",
    "app_df_2['OWN_CAR_AGE'] = app_df_2['OWN_CAR_AGE'].replace(np.nan, 0)"
   ]
  },
  {
   "cell_type": "code",
   "execution_count": 28,
   "id": "acbe9b5f",
   "metadata": {},
   "outputs": [
    {
     "data": {
      "text/plain": [
       "31.220346589227706"
      ]
     },
     "execution_count": 28,
     "metadata": {},
     "output_type": "execute_result"
    }
   ],
   "source": [
    "#calculate the percentage of missing values in OCCUPATION_TYPE column.\n",
    "96006/307511*100"
   ]
  },
  {
   "cell_type": "code",
   "execution_count": 29,
   "id": "b807ac8f",
   "metadata": {},
   "outputs": [
    {
     "data": {
      "text/plain": [
       "Laborers                0.26\n",
       "Sales staff             0.15\n",
       "Core staff              0.13\n",
       "Managers                0.10\n",
       "Drivers                 0.09\n",
       "High skill tech staff   0.05\n",
       "Accountants             0.05\n",
       "Medicine staff          0.04\n",
       "Security staff          0.03\n",
       "Cooking staff           0.03\n",
       "Cleaning staff          0.02\n",
       "Private service staff   0.01\n",
       "Low-skill Laborers      0.01\n",
       "Waiters/barmen staff    0.01\n",
       "Secretaries             0.01\n",
       "Realty agents           0.00\n",
       "HR staff                0.00\n",
       "IT staff                0.00\n",
       "Name: OCCUPATION_TYPE, dtype: float64"
      ]
     },
     "execution_count": 29,
     "metadata": {},
     "output_type": "execute_result"
    }
   ],
   "source": [
    "# View the % of occupation\n",
    "app_df_2.OCCUPATION_TYPE.value_counts(normalize=True)"
   ]
  },
  {
   "cell_type": "code",
   "execution_count": 30,
   "id": "5fce90d1",
   "metadata": {},
   "outputs": [],
   "source": [
    "# Deal with the missing values for OCCUPATION_TYPE column\n",
    "# classify nan as missing values, then we use this info for other analysis. \n",
    "# We can not drop this column because this info's really important for making decision.\n",
    "app_df_2.OCCUPATION_TYPE = app_df_2.OCCUPATION_TYPE.replace(np.nan, \"Missing\")\n"
   ]
  },
  {
   "cell_type": "code",
   "execution_count": 31,
   "id": "efa0d7f8",
   "metadata": {},
   "outputs": [
    {
     "data": {
      "text/plain": [
       "SK_ID_CURR                         0\n",
       "TARGET                             0\n",
       "NAME_CONTRACT_TYPE                 0\n",
       "CODE_GENDER                        0\n",
       "FLAG_OWN_CAR                       0\n",
       "FLAG_OWN_REALTY                    0\n",
       "CNT_CHILDREN                       0\n",
       "AMT_INCOME_TOTAL                   0\n",
       "AMT_CREDIT                         0\n",
       "AMT_ANNUITY                        0\n",
       "AMT_GOODS_PRICE                    0\n",
       "NAME_TYPE_SUITE                    0\n",
       "NAME_INCOME_TYPE                   0\n",
       "NAME_EDUCATION_TYPE                0\n",
       "NAME_FAMILY_STATUS                 0\n",
       "NAME_HOUSING_TYPE                  0\n",
       "REGION_POPULATION_RELATIVE         0\n",
       "DAYS_BIRTH                         0\n",
       "DAYS_EMPLOYED                      0\n",
       "DAYS_REGISTRATION                  0\n",
       "DAYS_ID_PUBLISH                    0\n",
       "OWN_CAR_AGE                        0\n",
       "FLAG_MOBIL                         0\n",
       "FLAG_EMP_PHONE                     0\n",
       "FLAG_WORK_PHONE                    0\n",
       "FLAG_CONT_MOBILE                   0\n",
       "FLAG_PHONE                         0\n",
       "FLAG_EMAIL                         0\n",
       "OCCUPATION_TYPE                    0\n",
       "CNT_FAM_MEMBERS                    0\n",
       "REGION_RATING_CLIENT               0\n",
       "REGION_RATING_CLIENT_W_CITY        0\n",
       "WEEKDAY_APPR_PROCESS_START         0\n",
       "HOUR_APPR_PROCESS_START            0\n",
       "REG_REGION_NOT_LIVE_REGION         0\n",
       "REG_REGION_NOT_WORK_REGION         0\n",
       "LIVE_REGION_NOT_WORK_REGION        0\n",
       "REG_CITY_NOT_LIVE_CITY             0\n",
       "REG_CITY_NOT_WORK_CITY             0\n",
       "LIVE_CITY_NOT_WORK_CITY            0\n",
       "ORGANIZATION_TYPE                  0\n",
       "Approved                       15949\n",
       "Canceled                       15949\n",
       "Refused                        15949\n",
       "Unused offer                   15949\n",
       "dtype: int64"
      ]
     },
     "execution_count": 31,
     "metadata": {},
     "output_type": "execute_result"
    }
   ],
   "source": [
    "#check the missing values again\n",
    "app_df_2.isnull().sum()"
   ]
  },
  {
   "cell_type": "code",
   "execution_count": 32,
   "id": "14256726",
   "metadata": {},
   "outputs": [],
   "source": [
    "#calculate the percentage of missing values in NAME_CONTRACT_STATUS column."
   ]
  },
  {
   "cell_type": "code",
   "execution_count": 33,
   "id": "4132ed8b",
   "metadata": {},
   "outputs": [
    {
     "data": {
      "text/plain": [
       "5.350702901684818"
      ]
     },
     "execution_count": 33,
     "metadata": {},
     "output_type": "execute_result"
    }
   ],
   "source": [
    "16454/307511*100"
   ]
  },
  {
   "cell_type": "code",
   "execution_count": 34,
   "id": "19f8e09e",
   "metadata": {},
   "outputs": [],
   "source": [
    "# 5% of customer did not apply a loan, classify those customers as 'New'\n"
   ]
  },
  {
   "cell_type": "code",
   "execution_count": 35,
   "id": "7b4067dd",
   "metadata": {},
   "outputs": [],
   "source": [
    "app_df_2.Approved = app_df_2.Approved.replace(np.nan, 0)\n",
    "app_df_2.Canceled = app_df_2.Canceled.replace(np.nan, 0)\n",
    "app_df_2.Refused  = app_df_2.Refused .replace(np.nan, 0)\n",
    "app_df_2['Unused offer'] = app_df_2['Unused offer'].replace(np.nan, 0)"
   ]
  },
  {
   "cell_type": "code",
   "execution_count": 36,
   "id": "b1e8fb86",
   "metadata": {},
   "outputs": [],
   "source": [
    "# create a column total apply_time and is_new_app\n",
    "\n",
    "app_df_2['apply_time'] = app_df_2['Approved'] + app_df_2['Canceled'] + app_df_2['Refused'] + app_df_2['Unused offer']\n",
    "app_df_2['is_new_app'] = np.where(app_df_2.apply_time > 0, 0, 1)"
   ]
  },
  {
   "cell_type": "code",
   "execution_count": 37,
   "id": "30e41829",
   "metadata": {},
   "outputs": [],
   "source": [
    "# define a function to group apply time column as new column\n",
    "def group_apply_time(x):\n",
    "    if x == 0:\n",
    "        return 'New'\n",
    "    elif x >= 1 and x <= 2:\n",
    "        return '1-2'\n",
    "    elif x >= 3 and x <= 5:\n",
    "        return '3-5'\n",
    "    elif x >= 6 and x <= 10:\n",
    "        return '6-10'\n",
    "    elif x >= 11:\n",
    "        return '>10'"
   ]
  },
  {
   "cell_type": "code",
   "execution_count": 38,
   "id": "3afbb24f",
   "metadata": {},
   "outputs": [],
   "source": [
    "app_df_2['apply_time_group'] = app_df_2 ['apply_time'].apply(group_apply_time)"
   ]
  },
  {
   "cell_type": "code",
   "execution_count": 39,
   "id": "40c10e52",
   "metadata": {},
   "outputs": [],
   "source": [
    "# check again\n",
    "# app_df_2.isnull().sum()"
   ]
  },
  {
   "cell_type": "code",
   "execution_count": 40,
   "id": "bdab75d1",
   "metadata": {},
   "outputs": [
    {
     "data": {
      "text/plain": [
       "0    290258\n",
       "1     15949\n",
       "Name: is_new_app, dtype: int64"
      ]
     },
     "execution_count": 40,
     "metadata": {},
     "output_type": "execute_result"
    }
   ],
   "source": [
    "# check is_new_app column\n",
    "app_df_2.is_new_app.value_counts()                     "
   ]
  },
  {
   "cell_type": "markdown",
   "id": "901e1de3",
   "metadata": {},
   "source": [
    "### Segment and Handling Outliers"
   ]
  },
  {
   "cell_type": "code",
   "execution_count": 41,
   "id": "3a16349c",
   "metadata": {},
   "outputs": [
    {
     "data": {
      "text/html": [
       "<div>\n",
       "<style scoped>\n",
       "    .dataframe tbody tr th:only-of-type {\n",
       "        vertical-align: middle;\n",
       "    }\n",
       "\n",
       "    .dataframe tbody tr th {\n",
       "        vertical-align: top;\n",
       "    }\n",
       "\n",
       "    .dataframe thead th {\n",
       "        text-align: right;\n",
       "    }\n",
       "</style>\n",
       "<table border=\"1\" class=\"dataframe\">\n",
       "  <thead>\n",
       "    <tr style=\"text-align: right;\">\n",
       "      <th></th>\n",
       "      <th>SK_ID_CURR</th>\n",
       "      <th>TARGET</th>\n",
       "      <th>NAME_CONTRACT_TYPE</th>\n",
       "      <th>CODE_GENDER</th>\n",
       "      <th>FLAG_OWN_CAR</th>\n",
       "      <th>FLAG_OWN_REALTY</th>\n",
       "      <th>CNT_CHILDREN</th>\n",
       "      <th>AMT_INCOME_TOTAL</th>\n",
       "      <th>AMT_CREDIT</th>\n",
       "      <th>AMT_ANNUITY</th>\n",
       "      <th>...</th>\n",
       "      <th>REG_CITY_NOT_WORK_CITY</th>\n",
       "      <th>LIVE_CITY_NOT_WORK_CITY</th>\n",
       "      <th>ORGANIZATION_TYPE</th>\n",
       "      <th>Approved</th>\n",
       "      <th>Canceled</th>\n",
       "      <th>Refused</th>\n",
       "      <th>Unused offer</th>\n",
       "      <th>apply_time</th>\n",
       "      <th>is_new_app</th>\n",
       "      <th>apply_time_group</th>\n",
       "    </tr>\n",
       "  </thead>\n",
       "  <tbody>\n",
       "    <tr>\n",
       "      <th>0</th>\n",
       "      <td>100002</td>\n",
       "      <td>1</td>\n",
       "      <td>Cash loans</td>\n",
       "      <td>M</td>\n",
       "      <td>N</td>\n",
       "      <td>Y</td>\n",
       "      <td>0</td>\n",
       "      <td>202500.00</td>\n",
       "      <td>406597.50</td>\n",
       "      <td>24700.50</td>\n",
       "      <td>...</td>\n",
       "      <td>0</td>\n",
       "      <td>0</td>\n",
       "      <td>Business Entity Type 3</td>\n",
       "      <td>1.00</td>\n",
       "      <td>0.00</td>\n",
       "      <td>0.00</td>\n",
       "      <td>0.00</td>\n",
       "      <td>1.00</td>\n",
       "      <td>0</td>\n",
       "      <td>1-2</td>\n",
       "    </tr>\n",
       "    <tr>\n",
       "      <th>1</th>\n",
       "      <td>100003</td>\n",
       "      <td>0</td>\n",
       "      <td>Cash loans</td>\n",
       "      <td>F</td>\n",
       "      <td>N</td>\n",
       "      <td>N</td>\n",
       "      <td>0</td>\n",
       "      <td>270000.00</td>\n",
       "      <td>1293502.50</td>\n",
       "      <td>35698.50</td>\n",
       "      <td>...</td>\n",
       "      <td>0</td>\n",
       "      <td>0</td>\n",
       "      <td>School</td>\n",
       "      <td>3.00</td>\n",
       "      <td>0.00</td>\n",
       "      <td>0.00</td>\n",
       "      <td>0.00</td>\n",
       "      <td>3.00</td>\n",
       "      <td>0</td>\n",
       "      <td>3-5</td>\n",
       "    </tr>\n",
       "    <tr>\n",
       "      <th>2</th>\n",
       "      <td>100004</td>\n",
       "      <td>0</td>\n",
       "      <td>Revolving loans</td>\n",
       "      <td>M</td>\n",
       "      <td>Y</td>\n",
       "      <td>Y</td>\n",
       "      <td>0</td>\n",
       "      <td>67500.00</td>\n",
       "      <td>135000.00</td>\n",
       "      <td>6750.00</td>\n",
       "      <td>...</td>\n",
       "      <td>0</td>\n",
       "      <td>0</td>\n",
       "      <td>Government</td>\n",
       "      <td>1.00</td>\n",
       "      <td>0.00</td>\n",
       "      <td>0.00</td>\n",
       "      <td>0.00</td>\n",
       "      <td>1.00</td>\n",
       "      <td>0</td>\n",
       "      <td>1-2</td>\n",
       "    </tr>\n",
       "    <tr>\n",
       "      <th>3</th>\n",
       "      <td>100006</td>\n",
       "      <td>0</td>\n",
       "      <td>Cash loans</td>\n",
       "      <td>F</td>\n",
       "      <td>N</td>\n",
       "      <td>Y</td>\n",
       "      <td>0</td>\n",
       "      <td>135000.00</td>\n",
       "      <td>312682.50</td>\n",
       "      <td>29686.50</td>\n",
       "      <td>...</td>\n",
       "      <td>0</td>\n",
       "      <td>0</td>\n",
       "      <td>Business Entity Type 3</td>\n",
       "      <td>5.00</td>\n",
       "      <td>3.00</td>\n",
       "      <td>1.00</td>\n",
       "      <td>0.00</td>\n",
       "      <td>9.00</td>\n",
       "      <td>0</td>\n",
       "      <td>6-10</td>\n",
       "    </tr>\n",
       "    <tr>\n",
       "      <th>4</th>\n",
       "      <td>100007</td>\n",
       "      <td>0</td>\n",
       "      <td>Cash loans</td>\n",
       "      <td>M</td>\n",
       "      <td>N</td>\n",
       "      <td>Y</td>\n",
       "      <td>0</td>\n",
       "      <td>121500.00</td>\n",
       "      <td>513000.00</td>\n",
       "      <td>21865.50</td>\n",
       "      <td>...</td>\n",
       "      <td>1</td>\n",
       "      <td>1</td>\n",
       "      <td>Religion</td>\n",
       "      <td>6.00</td>\n",
       "      <td>0.00</td>\n",
       "      <td>0.00</td>\n",
       "      <td>0.00</td>\n",
       "      <td>6.00</td>\n",
       "      <td>0</td>\n",
       "      <td>6-10</td>\n",
       "    </tr>\n",
       "  </tbody>\n",
       "</table>\n",
       "<p>5 rows × 48 columns</p>\n",
       "</div>"
      ],
      "text/plain": [
       "   SK_ID_CURR  TARGET NAME_CONTRACT_TYPE CODE_GENDER FLAG_OWN_CAR  \\\n",
       "0      100002       1         Cash loans           M            N   \n",
       "1      100003       0         Cash loans           F            N   \n",
       "2      100004       0    Revolving loans           M            Y   \n",
       "3      100006       0         Cash loans           F            N   \n",
       "4      100007       0         Cash loans           M            N   \n",
       "\n",
       "  FLAG_OWN_REALTY  CNT_CHILDREN  AMT_INCOME_TOTAL  AMT_CREDIT  AMT_ANNUITY  \\\n",
       "0               Y             0         202500.00   406597.50     24700.50   \n",
       "1               N             0         270000.00  1293502.50     35698.50   \n",
       "2               Y             0          67500.00   135000.00      6750.00   \n",
       "3               Y             0         135000.00   312682.50     29686.50   \n",
       "4               Y             0         121500.00   513000.00     21865.50   \n",
       "\n",
       "   ...  REG_CITY_NOT_WORK_CITY LIVE_CITY_NOT_WORK_CITY  \\\n",
       "0  ...                       0                       0   \n",
       "1  ...                       0                       0   \n",
       "2  ...                       0                       0   \n",
       "3  ...                       0                       0   \n",
       "4  ...                       1                       1   \n",
       "\n",
       "        ORGANIZATION_TYPE Approved Canceled Refused  Unused offer  apply_time  \\\n",
       "0  Business Entity Type 3     1.00     0.00    0.00          0.00        1.00   \n",
       "1                  School     3.00     0.00    0.00          0.00        3.00   \n",
       "2              Government     1.00     0.00    0.00          0.00        1.00   \n",
       "3  Business Entity Type 3     5.00     3.00    1.00          0.00        9.00   \n",
       "4                Religion     6.00     0.00    0.00          0.00        6.00   \n",
       "\n",
       "   is_new_app  apply_time_group  \n",
       "0           0               1-2  \n",
       "1           0               3-5  \n",
       "2           0               1-2  \n",
       "3           0              6-10  \n",
       "4           0              6-10  \n",
       "\n",
       "[5 rows x 48 columns]"
      ]
     },
     "execution_count": 41,
     "metadata": {},
     "output_type": "execute_result"
    }
   ],
   "source": [
    "# view data\n",
    "app_df_2.head()"
   ]
  },
  {
   "cell_type": "markdown",
   "id": "b4965b9f",
   "metadata": {},
   "source": [
    "#### Handling Outlier - column AMT_INCOME_TOTAL"
   ]
  },
  {
   "cell_type": "code",
   "execution_count": 42,
   "id": "14516a41",
   "metadata": {},
   "outputs": [
    {
     "data": {
      "text/plain": [
       "count      306207.00\n",
       "mean       168782.51\n",
       "std        237520.62\n",
       "min         25650.00\n",
       "25%        112500.00\n",
       "50%        147600.00\n",
       "75%        202500.00\n",
       "99%        472500.00\n",
       "max     117000000.00\n",
       "Name: AMT_INCOME_TOTAL, dtype: float64"
      ]
     },
     "execution_count": 42,
     "metadata": {},
     "output_type": "execute_result"
    }
   ],
   "source": [
    "# describe the AMT_INCOME_TOTAL variable\n",
    "app_df_2.AMT_INCOME_TOTAL.describe(percentiles=[.25, .50, 0.75, .99,])"
   ]
  },
  {
   "cell_type": "code",
   "execution_count": 43,
   "id": "11e94605",
   "metadata": {},
   "outputs": [
    {
     "data": {
      "image/png": "[encoded data removed]",
      "text/plain": [
       "<Figure size 432x288 with 1 Axes>"
      ]
     },
     "metadata": {
      "needs_background": "light"
     },
     "output_type": "display_data"
    }
   ],
   "source": [
    "# visualize income column with boxplot\n",
    "sns.boxplot(data= app_df_2, x = 'AMT_INCOME_TOTAL')\n",
    "plt.show()"
   ]
  },
  {
   "cell_type": "code",
   "execution_count": 44,
   "id": "c6366532",
   "metadata": {},
   "outputs": [],
   "source": [
    "# the highest income 117000000 may be human error input\n",
    "# remove outliers with values >= 99%\n",
    "app_df_3 = app_df_2[app_df_2['AMT_INCOME_TOTAL'] < 472500]"
   ]
  },
  {
   "cell_type": "code",
   "execution_count": 45,
   "id": "6bce9000",
   "metadata": {},
   "outputs": [
    {
     "data": {
      "image/png": "[encoded data removed]",
      "text/plain": [
       "<Figure size 432x288 with 1 Axes>"
      ]
     },
     "metadata": {
      "needs_background": "light"
     },
     "output_type": "display_data"
    }
   ],
   "source": [
    "# visualize income column with boxplot again\n",
    "sns.boxplot(data= app_df_3, x = 'AMT_INCOME_TOTAL')\n",
    "plt.show()\n"
   ]
  },
  {
   "cell_type": "code",
   "execution_count": null,
   "id": "031ce7be",
   "metadata": {},
   "outputs": [],
   "source": []
  },
  {
   "cell_type": "markdown",
   "id": "2b8e6b7e",
   "metadata": {},
   "source": [
    "#### Handling Outlier - column AMT_CREDIT"
   ]
  },
  {
   "cell_type": "code",
   "execution_count": 46,
   "id": "fc9aa3a5",
   "metadata": {},
   "outputs": [
    {
     "data": {
      "text/plain": [
       "count    303140.00\n",
       "mean     593571.56\n",
       "std      396188.87\n",
       "min       45000.00\n",
       "25%      270000.00\n",
       "50%      509400.00\n",
       "75%      808650.00\n",
       "99%     1800000.00\n",
       "max     4050000.00\n",
       "Name: AMT_CREDIT, dtype: float64"
      ]
     },
     "execution_count": 46,
     "metadata": {},
     "output_type": "execute_result"
    }
   ],
   "source": [
    "# describe the AMT_CREDIT variable\n",
    "app_df_3.AMT_CREDIT.describe(percentiles=[.25, .50, 0.75, .99,])"
   ]
  },
  {
   "cell_type": "code",
   "execution_count": 47,
   "id": "cd8df7de",
   "metadata": {},
   "outputs": [
    {
     "data": {
      "image/png": "[encoded data removed]",
      "text/plain": [
       "<Figure size 432x288 with 1 Axes>"
      ]
     },
     "metadata": {
      "needs_background": "light"
     },
     "output_type": "display_data"
    }
   ],
   "source": [
    "# visualize AMT_CREDIT column with boxplot\n",
    "sns.boxplot(data= app_df_3, x = 'AMT_CREDIT')\n",
    "plt.show()"
   ]
  },
  {
   "cell_type": "code",
   "execution_count": 48,
   "id": "263b2e7f",
   "metadata": {},
   "outputs": [],
   "source": [
    "# remove outliers with values > 99%\n",
    "app_df_3 = app_df_2[app_df_2['AMT_CREDIT'] <= 1800000]"
   ]
  },
  {
   "cell_type": "code",
   "execution_count": 49,
   "id": "abfb9100",
   "metadata": {},
   "outputs": [
    {
     "data": {
      "image/png": "[encoded data removed]",
      "text/plain": [
       "<Figure size 432x288 with 1 Axes>"
      ]
     },
     "metadata": {
      "needs_background": "light"
     },
     "output_type": "display_data"
    }
   ],
   "source": [
    "# visualize AMT_CREDIT column with boxplot again\n",
    "sns.boxplot(data= app_df_3, x = 'AMT_CREDIT')\n",
    "plt.show()"
   ]
  },
  {
   "cell_type": "markdown",
   "id": "57891a94",
   "metadata": {},
   "source": [
    "#### Handling Outlier - column AMT_ANNUITY"
   ]
  },
  {
   "cell_type": "code",
   "execution_count": 50,
   "id": "6a5f5dc0",
   "metadata": {},
   "outputs": [
    {
     "data": {
      "text/plain": [
       "count   302983.00\n",
       "mean     26693.30\n",
       "std      13759.03\n",
       "min       1615.50\n",
       "25%      16456.50\n",
       "50%      24750.00\n",
       "75%      34177.50\n",
       "99%      67500.00\n",
       "max     180000.00\n",
       "Name: AMT_ANNUITY, dtype: float64"
      ]
     },
     "execution_count": 50,
     "metadata": {},
     "output_type": "execute_result"
    }
   ],
   "source": [
    "# describe the AMT_ANNUITY variable\n",
    "app_df_3.AMT_ANNUITY.describe(percentiles=[.25, .50, 0.75, .99,])"
   ]
  },
  {
   "cell_type": "code",
   "execution_count": 51,
   "id": "c0904728",
   "metadata": {},
   "outputs": [
    {
     "data": {
      "image/png": "[encoded data removed]",
      "text/plain": [
       "<Figure size 432x288 with 1 Axes>"
      ]
     },
     "metadata": {
      "needs_background": "light"
     },
     "output_type": "display_data"
    }
   ],
   "source": [
    "# visualize AMT_ANNUITY column with boxplot\n",
    "sns.boxplot(data= app_df_3, x = 'AMT_ANNUITY')\n",
    "plt.show()"
   ]
  },
  {
   "cell_type": "markdown",
   "id": "b8f5d831",
   "metadata": {},
   "source": [
    "## Univariate Analysis"
   ]
  },
  {
   "cell_type": "markdown",
   "id": "fa48e123",
   "metadata": {},
   "source": [
    "### Categorical unordered univariate analysis"
   ]
  },
  {
   "cell_type": "code",
   "execution_count": 52,
   "id": "b202a9a4",
   "metadata": {},
   "outputs": [
    {
     "data": {
      "image/png": "[encoded data removed]",
      "text/plain": [
       "<Figure size 432x288 with 1 Axes>"
      ]
     },
     "metadata": {
      "needs_background": "light"
     },
     "output_type": "display_data"
    }
   ],
   "source": [
    "#calculate the percentage of each TARGET customer category. \n",
    "app_df_3.TARGET.value_counts(normalize=True).plot.barh()\n",
    "plt.show()"
   ]
  },
  {
   "cell_type": "code",
   "execution_count": 53,
   "id": "0f0114bd",
   "metadata": {},
   "outputs": [
    {
     "data": {
      "image/png": "[encoded data removed]",
      "text/plain": [
       "<Figure size 432x288 with 1 Axes>"
      ]
     },
     "metadata": {
      "needs_background": "light"
     },
     "output_type": "display_data"
    }
   ],
   "source": [
    "#calculate the percentage of each contract type category. \n",
    "app_df_3.NAME_CONTRACT_TYPE.value_counts(normalize=True).plot.barh()\n",
    "plt.show()"
   ]
  },
  {
   "cell_type": "code",
   "execution_count": 54,
   "id": "cf9c3f39",
   "metadata": {},
   "outputs": [
    {
     "data": {
      "image/png": "[encoded data removed]",
      "text/plain": [
       "<Figure size 432x288 with 1 Axes>"
      ]
     },
     "metadata": {
      "needs_background": "light"
     },
     "output_type": "display_data"
    }
   ],
   "source": [
    "#calculate the percentage of each gender category. \n",
    "app_df_3.CODE_GENDER.value_counts(normalize=True).plot.barh()\n",
    "plt.show()"
   ]
  },
  {
   "cell_type": "code",
   "execution_count": 55,
   "id": "c17f72d8",
   "metadata": {},
   "outputs": [
    {
     "data": {
      "image/png": "[encoded data removed]",
      "text/plain": [
       "<Figure size 432x288 with 1 Axes>"
      ]
     },
     "metadata": {
      "needs_background": "light"
     },
     "output_type": "display_data"
    }
   ],
   "source": [
    "#calculate the percentage of each FLAG_OWN_REALTY column. \n",
    "app_df_3.FLAG_OWN_REALTY.value_counts(normalize=True).plot.barh()\n",
    "plt.show()"
   ]
  },
  {
   "cell_type": "code",
   "execution_count": 56,
   "id": "47bd9331",
   "metadata": {},
   "outputs": [],
   "source": [
    "# group accompanying client\n",
    "def group_accompanying (x):\n",
    "    if x in ['Other_A', 'Other_B', 'Group of people']:\n",
    "        x = 'Other'\n",
    "    return x"
   ]
  },
  {
   "cell_type": "code",
   "execution_count": 57,
   "id": "325a37f8",
   "metadata": {},
   "outputs": [],
   "source": [
    "app_df_3.NAME_TYPE_SUITE = app_df_3.NAME_TYPE_SUITE.apply(group_accompanying)"
   ]
  },
  {
   "cell_type": "code",
   "execution_count": 58,
   "id": "56fe1c9c",
   "metadata": {},
   "outputs": [
    {
     "data": {
      "image/png": "[encoded data removed]",
      "text/plain": [
       "<Figure size 432x288 with 1 Axes>"
      ]
     },
     "metadata": {
      "needs_background": "light"
     },
     "output_type": "display_data"
    }
   ],
   "source": [
    "#calculate the percentage of each accompanying client. \n",
    "app_df_3.NAME_TYPE_SUITE.value_counts(normalize=True).plot.barh()\n",
    "plt.show()"
   ]
  },
  {
   "cell_type": "code",
   "execution_count": 59,
   "id": "f91e9464",
   "metadata": {},
   "outputs": [
    {
     "data": {
      "image/png": "[encoded data removed]",
      "text/plain": [
       "<Figure size 432x288 with 1 Axes>"
      ]
     },
     "metadata": {
      "needs_background": "light"
     },
     "output_type": "display_data"
    }
   ],
   "source": [
    "#calculate the percentage of each income type. \n",
    "app_df_3.NAME_INCOME_TYPE.value_counts(normalize=True).plot.barh()\n",
    "plt.show()"
   ]
  },
  {
   "cell_type": "code",
   "execution_count": 60,
   "id": "226a3696",
   "metadata": {},
   "outputs": [
    {
     "data": {
      "image/png": "[encoded data removed]",
      "text/plain": [
       "<Figure size 432x288 with 1 Axes>"
      ]
     },
     "metadata": {
      "needs_background": "light"
     },
     "output_type": "display_data"
    }
   ],
   "source": [
    "#calculate the percentage of each family status. \n",
    "app_df_3.NAME_FAMILY_STATUS.value_counts(normalize=True).plot.barh()\n",
    "plt.show()"
   ]
  },
  {
   "cell_type": "code",
   "execution_count": 61,
   "id": "c2204bd2",
   "metadata": {},
   "outputs": [
    {
     "data": {
      "image/png": "[encoded data removed]",
      "text/plain": [
       "<Figure size 432x288 with 1 Axes>"
      ]
     },
     "metadata": {
      "needs_background": "light"
     },
     "output_type": "display_data"
    }
   ],
   "source": [
    "#calculate the percentage of each house type. \n",
    "app_df_3.NAME_HOUSING_TYPE.value_counts(normalize=True).plot.barh()\n",
    "plt.show()"
   ]
  },
  {
   "cell_type": "markdown",
   "id": "901243b1",
   "metadata": {},
   "source": [
    "### Categorical ordered univariate analysis"
   ]
  },
  {
   "cell_type": "code",
   "execution_count": 62,
   "id": "2ae719c8",
   "metadata": {},
   "outputs": [
    {
     "data": {
      "text/plain": [
       "100-150k   0.30\n",
       "150-200k   0.21\n",
       "50-100k    0.19\n",
       "200-250k   0.16\n",
       ">300k      0.07\n",
       "250-300k   0.05\n",
       "< 50k      0.01\n",
       "Name: income_group, dtype: float64"
      ]
     },
     "execution_count": 62,
     "metadata": {},
     "output_type": "execute_result"
    }
   ],
   "source": [
    "# define a function to classify income varible in 7 groups\n",
    "def segment_income(x):\n",
    "    if x < 50000:\n",
    "        return '< 50k'\n",
    "    elif x >= 50000 and x <= 100000:\n",
    "        return '50-100k'\n",
    "    elif x >= 100000 and x <= 150000:\n",
    "        return '100-150k'\n",
    "    elif x > 150000 and x <= 200000:\n",
    "        return '150-200k'\n",
    "    elif x > 200000 and x <= 250000:\n",
    "        return '200-250k'\n",
    "    elif x > 250000 and x <= 300000:\n",
    "        return '250-300k'\n",
    "    elif x > 300000:\n",
    "        return '>300k'\n",
    "# apply function\n",
    "app_df_3['income_group'] = app_df_3.AMT_INCOME_TOTAL.apply(segment_income)\n",
    "app_df_3['income_group'].value_counts(normalize=True)\n"
   ]
  },
  {
   "cell_type": "code",
   "execution_count": 63,
   "id": "235d06f6",
   "metadata": {},
   "outputs": [
    {
     "data": {
      "text/plain": [
       "100-150k   0.30\n",
       "150-200k   0.21\n",
       "50-100k    0.19\n",
       "200-250k   0.16\n",
       ">300k      0.07\n",
       "250-300k   0.05\n",
       "< 50k      0.01\n",
       "Name: income_group, dtype: float64"
      ]
     },
     "execution_count": 63,
     "metadata": {},
     "output_type": "execute_result"
    }
   ],
   "source": [
    "app_df_3['income_group'].value_counts(normalize=True)"
   ]
  },
  {
   "cell_type": "code",
   "execution_count": 64,
   "id": "38c3cc53",
   "metadata": {},
   "outputs": [
    {
     "data": {
      "image/png": "[encoded data removed]",
      "text/plain": [
       "<Figure size 432x288 with 1 Axes>"
      ]
     },
     "metadata": {},
     "output_type": "display_data"
    }
   ],
   "source": [
    "# plot the boxplot of income variable\n",
    "plt.pie(app_df_3['income_group'].value_counts(normalize=True), )\n",
    "plt.show()"
   ]
  },
  {
   "cell_type": "code",
   "execution_count": 65,
   "id": "a198c9b1",
   "metadata": {},
   "outputs": [
    {
     "data": {
      "image/png": "[encoded data removed]",
      "text/plain": [
       "<Figure size 432x288 with 1 Axes>"
      ]
     },
     "metadata": {
      "needs_background": "light"
     },
     "output_type": "display_data"
    }
   ],
   "source": [
    "#calculate the percentage of each CNT_CHILDREN column. \n",
    "app_df_3.income_group.value_counts(normalize=True).plot.barh()\n",
    "plt.show()"
   ]
  },
  {
   "cell_type": "code",
   "execution_count": 66,
   "id": "53e6e606",
   "metadata": {},
   "outputs": [
    {
     "data": {
      "image/png": "[encoded data removed]",
      "text/plain": [
       "<Figure size 432x288 with 1 Axes>"
      ]
     },
     "metadata": {
      "needs_background": "light"
     },
     "output_type": "display_data"
    }
   ],
   "source": [
    "#calculate the percentage of each CNT_CHILDREN column. \n",
    "app_df_3.CNT_CHILDREN.value_counts(normalize=True).plot.barh()\n",
    "plt.show()"
   ]
  },
  {
   "cell_type": "code",
   "execution_count": 67,
   "id": "816f94dc",
   "metadata": {},
   "outputs": [
    {
     "data": {
      "image/png": "[encoded data removed]",
      "text/plain": [
       "<Figure size 432x288 with 1 Axes>"
      ]
     },
     "metadata": {
      "needs_background": "light"
     },
     "output_type": "display_data"
    }
   ],
   "source": [
    "#calculate the percentage of each education category. \n",
    "app_df_3.NAME_EDUCATION_TYPE.value_counts(normalize=True).plot.barh()\n",
    "plt.show()"
   ]
  },
  {
   "cell_type": "code",
   "execution_count": 68,
   "id": "f48b65c3",
   "metadata": {},
   "outputs": [],
   "source": [
    "# add age of customer column"
   ]
  },
  {
   "cell_type": "code",
   "execution_count": 69,
   "id": "b8a10a4f",
   "metadata": {},
   "outputs": [],
   "source": [
    "import math"
   ]
  },
  {
   "cell_type": "code",
   "execution_count": 70,
   "id": "bf8d93b8",
   "metadata": {},
   "outputs": [],
   "source": [
    "# define round floor of age\n",
    "def math_floor(x):\n",
    "    x = int(x)\n",
    "    x = math.floor(x)\n",
    "    return x"
   ]
  },
  {
   "cell_type": "code",
   "execution_count": 71,
   "id": "23b883bc",
   "metadata": {},
   "outputs": [],
   "source": [
    "app_df_3['age'] = pd.to_numeric(app_df_3.DAYS_BIRTH/365*(-1)).apply(math_floor)"
   ]
  },
  {
   "cell_type": "code",
   "execution_count": 72,
   "id": "2d2389ec",
   "metadata": {},
   "outputs": [],
   "source": [
    "# define age group\n",
    "def age_group(x):\n",
    "    if x < 18:\n",
    "        return 'Under 18'\n",
    "    elif x >= 18 and x <= 25:\n",
    "        return '18-25'\n",
    "    elif x >= 26 and x <= 35:\n",
    "        return '26-35'\n",
    "    elif x >= 36 and x <= 45:\n",
    "        return '36-45'\n",
    "    elif x > 45:\n",
    "        return '>45'"
   ]
  },
  {
   "cell_type": "code",
   "execution_count": 73,
   "id": "572a9b65",
   "metadata": {},
   "outputs": [],
   "source": [
    "app_df_3['age_group'] = app_df_3['age'].apply(age_group)"
   ]
  },
  {
   "cell_type": "code",
   "execution_count": 74,
   "id": "47ff298d",
   "metadata": {},
   "outputs": [
    {
     "data": {
      "text/plain": [
       ">45      129656\n",
       "36-45     82338\n",
       "26-35     74828\n",
       "18-25     16161\n",
       "Name: age_group, dtype: int64"
      ]
     },
     "execution_count": 74,
     "metadata": {},
     "output_type": "execute_result"
    }
   ],
   "source": [
    "# check new age column \n",
    "app_df_3['age_group'].value_counts()"
   ]
  },
  {
   "cell_type": "code",
   "execution_count": 75,
   "id": "e1834f88",
   "metadata": {},
   "outputs": [
    {
     "data": {
      "image/png": "[encoded data removed]",
      "text/plain": [
       "<Figure size 432x288 with 1 Axes>"
      ]
     },
     "metadata": {
      "needs_background": "light"
     },
     "output_type": "display_data"
    }
   ],
   "source": [
    "app_df_3.age_group.value_counts(normalize=True).plot.barh()\n",
    "plt.show()"
   ]
  },
  {
   "cell_type": "code",
   "execution_count": 76,
   "id": "a01442b5",
   "metadata": {},
   "outputs": [],
   "source": [
    "# add working experience years from column DAYS_EMPLOYED\n",
    "app_df_3['exp_year'] = pd.to_numeric(app_df_3.DAYS_EMPLOYED/365*(-1))\n"
   ]
  },
  {
   "cell_type": "code",
   "execution_count": 77,
   "id": "5bbb47f1",
   "metadata": {},
   "outputs": [],
   "source": [
    "# define function to group working year group\n",
    "def exp_year_group(x):\n",
    "    if x < 1:\n",
    "        return '<1'\n",
    "    elif x >= 1 and x < 2:\n",
    "        return '1-2'\n",
    "    elif x >= 2 and x < 5:\n",
    "        return '2-5'\n",
    "    elif x >= 5 and x < 10:\n",
    "        return '5-10'\n",
    "    elif x >= 10 and x < 20:\n",
    "        return '10-20'\n",
    "    elif x >= 20:\n",
    "        return '>20'"
   ]
  },
  {
   "cell_type": "code",
   "execution_count": 78,
   "id": "c0ad0485",
   "metadata": {},
   "outputs": [],
   "source": [
    "app_df_3['exp_year_group'] = app_df_3['exp_year'].apply(exp_year_group)"
   ]
  },
  {
   "cell_type": "code",
   "execution_count": 79,
   "id": "fa0f19b8",
   "metadata": {},
   "outputs": [
    {
     "data": {
      "text/plain": [
       "<1       82240\n",
       "2-5      75429\n",
       "5-10     63853\n",
       "10-20    37721\n",
       "1-2      31418\n",
       ">20      12322\n",
       "Name: exp_year_group, dtype: int64"
      ]
     },
     "execution_count": 79,
     "metadata": {},
     "output_type": "execute_result"
    }
   ],
   "source": [
    "app_df_3['exp_year_group'].value_counts()"
   ]
  },
  {
   "cell_type": "code",
   "execution_count": 80,
   "id": "e5a95d52",
   "metadata": {},
   "outputs": [
    {
     "data": {
      "image/png": "[encoded data removed]",
      "text/plain": [
       "<Figure size 432x288 with 1 Axes>"
      ]
     },
     "metadata": {
      "needs_background": "light"
     },
     "output_type": "display_data"
    }
   ],
   "source": [
    "#calculate the percentage of each CNT_CHILDREN column. \n",
    "app_df_3.exp_year_group.value_counts(normalize=True).plot.barh()\n",
    "plt.show()"
   ]
  },
  {
   "cell_type": "markdown",
   "id": "36e4e76d",
   "metadata": {},
   "source": [
    "## Data analysis"
   ]
  },
  {
   "cell_type": "markdown",
   "id": "3de6c998",
   "metadata": {},
   "source": [
    "1. Analyze the behavior of customer\n",
    "2. Understand customer demand on loan\n",
    "3. Analyze the risk of difficulty customer\n",
    "4. Find the solution and recommendation for BOD\n"
   ]
  },
  {
   "cell_type": "markdown",
   "id": "1e0127cb",
   "metadata": {},
   "source": [
    "### Bivariate analysis"
   ]
  },
  {
   "cell_type": "markdown",
   "id": "6c4780b6",
   "metadata": {},
   "source": [
    "#### Numerical- Categorical analysis"
   ]
  },
  {
   "cell_type": "markdown",
   "id": "fcc6ec82",
   "metadata": {},
   "source": [
    "##### income and difficulty paying their installments"
   ]
  },
  {
   "cell_type": "code",
   "execution_count": 81,
   "id": "2d8fa052",
   "metadata": {},
   "outputs": [
    {
     "data": {
      "image/png": "[encoded data removed]",
      "text/plain": [
       "<Figure size 432x288 with 1 Axes>"
      ]
     },
     "metadata": {
      "needs_background": "light"
     },
     "output_type": "display_data"
    }
   ],
   "source": [
    "#plot the box plot of income and target variable\n",
    "app_df_3.groupby(['income_group'])['TARGET'].sum().plot.bar()\n",
    "plt.show()"
   ]
  },
  {
   "cell_type": "markdown",
   "id": "d31d849e",
   "metadata": {},
   "source": [
    "##### loan annuity and difficulty paying their installments"
   ]
  },
  {
   "cell_type": "code",
   "execution_count": 82,
   "id": "cb2c936a",
   "metadata": {},
   "outputs": [
    {
     "data": {
      "image/png": "[encoded data removed]",
      "text/plain": [
       "<Figure size 432x288 with 1 Axes>"
      ]
     },
     "metadata": {
      "needs_background": "light"
     },
     "output_type": "display_data"
    }
   ],
   "source": [
    "#plot the box plot of loan annuity and target variable\n",
    "sns.boxplot(data=app_df_3, x = 'TARGET', y = 'AMT_ANNUITY')\n",
    "plt.show()"
   ]
  },
  {
   "cell_type": "markdown",
   "id": "d7d34b6e",
   "metadata": {},
   "source": [
    "####  Categorical categorical bivariate analysis"
   ]
  },
  {
   "cell_type": "markdown",
   "id": "32a1c59c",
   "metadata": {},
   "source": [
    "##### Number of application with difficulty in paying the installment"
   ]
  },
  {
   "cell_type": "code",
   "execution_count": 83,
   "id": "301ecd8c",
   "metadata": {},
   "outputs": [
    {
     "data": {
      "image/png": "[encoded data removed]",
      "text/plain": [
       "<Figure size 432x288 with 1 Axes>"
      ]
     },
     "metadata": {
      "needs_background": "light"
     },
     "output_type": "display_data"
    }
   ],
   "source": [
    "app_df_3['TARGET'].value_counts().plot.bar()\n",
    "plt.show()"
   ]
  },
  {
   "cell_type": "code",
   "execution_count": 84,
   "id": "a09166de",
   "metadata": {},
   "outputs": [
    {
     "data": {
      "text/plain": [
       "0    278361\n",
       "1     24622\n",
       "Name: TARGET, dtype: int64"
      ]
     },
     "execution_count": 84,
     "metadata": {},
     "output_type": "execute_result"
    }
   ],
   "source": [
    "app_df_3['TARGET'].value_counts()"
   ]
  },
  {
   "cell_type": "code",
   "execution_count": 85,
   "id": "4933f49d",
   "metadata": {},
   "outputs": [
    {
     "data": {
      "image/png": "[encoded data removed]",
      "text/plain": [
       "<Figure size 432x288 with 1 Axes>"
      ]
     },
     "metadata": {},
     "output_type": "display_data"
    }
   ],
   "source": [
    "app_df_3['TARGET'].value_counts(normalize=True).plot.pie()\n",
    "plt.show()"
   ]
  },
  {
   "cell_type": "markdown",
   "id": "830b9173",
   "metadata": {},
   "source": [
    "##### age group and difficulty paying their installments"
   ]
  },
  {
   "cell_type": "code",
   "execution_count": 86,
   "id": "33b88cac",
   "metadata": {},
   "outputs": [
    {
     "data": {
      "image/png": "[encoded data removed]",
      "text/plain": [
       "<Figure size 432x288 with 1 Axes>"
      ]
     },
     "metadata": {
      "needs_background": "light"
     },
     "output_type": "display_data"
    }
   ],
   "source": [
    "app_df_3.groupby(['age_group'])['TARGET'].sum().plot.bar()\n",
    "plt.show()"
   ]
  },
  {
   "cell_type": "markdown",
   "id": "4fc83871",
   "metadata": {},
   "source": [
    "##### contract type and difficulty"
   ]
  },
  {
   "cell_type": "code",
   "execution_count": 87,
   "id": "ddd84860",
   "metadata": {},
   "outputs": [
    {
     "data": {
      "image/png": "[encoded data removed]",
      "text/plain": [
       "<Figure size 432x288 with 1 Axes>"
      ]
     },
     "metadata": {
      "needs_background": "light"
     },
     "output_type": "display_data"
    }
   ],
   "source": [
    "app_df_3.groupby(['NAME_CONTRACT_TYPE'])['TARGET'].sum().plot.bar()\n",
    "plt.show()"
   ]
  },
  {
   "cell_type": "markdown",
   "id": "6652b280",
   "metadata": {},
   "source": [
    "##### gender and difficulty"
   ]
  },
  {
   "cell_type": "code",
   "execution_count": 88,
   "id": "a5008df8",
   "metadata": {},
   "outputs": [
    {
     "data": {
      "image/png": "[encoded data removed]",
      "text/plain": [
       "<Figure size 432x288 with 1 Axes>"
      ]
     },
     "metadata": {
      "needs_background": "light"
     },
     "output_type": "display_data"
    }
   ],
   "source": [
    "app_df_3.groupby(['CODE_GENDER'])['TARGET'].sum().plot.bar()\n",
    "plt.show()"
   ]
  },
  {
   "cell_type": "markdown",
   "id": "0cf538d8",
   "metadata": {},
   "source": [
    "##### education and difficulty paying their installments"
   ]
  },
  {
   "cell_type": "code",
   "execution_count": 89,
   "id": "bc0148ca",
   "metadata": {},
   "outputs": [
    {
     "data": {
      "text/plain": [
       "NAME_EDUCATION_TYPE\n",
       "Academic degree                      3\n",
       "Higher education                  3923\n",
       "Incomplete higher                  864\n",
       "Lower secondary                    417\n",
       "Secondary / secondary special    19415\n",
       "Name: TARGET, dtype: int64"
      ]
     },
     "execution_count": 89,
     "metadata": {},
     "output_type": "execute_result"
    }
   ],
   "source": [
    "app_df_3.groupby(['NAME_EDUCATION_TYPE'])['TARGET'].sum()"
   ]
  },
  {
   "cell_type": "code",
   "execution_count": 90,
   "id": "acafcc25",
   "metadata": {},
   "outputs": [
    {
     "data": {
      "image/png": "[encoded data removed]",
      "text/plain": [
       "<Figure size 432x288 with 1 Axes>"
      ]
     },
     "metadata": {
      "needs_background": "light"
     },
     "output_type": "display_data"
    }
   ],
   "source": [
    "app_df_3.groupby(['NAME_EDUCATION_TYPE'])['TARGET'].sum().plot.barh()\n",
    "plt.show()"
   ]
  },
  {
   "cell_type": "code",
   "execution_count": null,
   "id": "8cba77a4",
   "metadata": {},
   "outputs": [],
   "source": []
  },
  {
   "cell_type": "markdown",
   "id": "d9ba07eb",
   "metadata": {},
   "source": [
    "##### number of children and difficulty paying their installments"
   ]
  },
  {
   "cell_type": "code",
   "execution_count": 91,
   "id": "536fa785",
   "metadata": {},
   "outputs": [
    {
     "data": {
      "image/png": "[encoded data removed]",
      "text/plain": [
       "<Figure size 432x288 with 1 Axes>"
      ]
     },
     "metadata": {
      "needs_background": "light"
     },
     "output_type": "display_data"
    }
   ],
   "source": [
    "app_df_3.groupby(['CNT_CHILDREN'])['TARGET'].sum().plot.bar()\n",
    "plt.show()"
   ]
  },
  {
   "cell_type": "markdown",
   "id": "62245a87",
   "metadata": {},
   "source": [
    "##### own car and difficulty paying their installments"
   ]
  },
  {
   "cell_type": "code",
   "execution_count": 92,
   "id": "5ba63944",
   "metadata": {},
   "outputs": [
    {
     "data": {
      "image/png": "[encoded data removed]",
      "text/plain": [
       "<Figure size 432x288 with 1 Axes>"
      ]
     },
     "metadata": {
      "needs_background": "light"
     },
     "output_type": "display_data"
    }
   ],
   "source": [
    "app_df_3.groupby(['FLAG_OWN_REALTY'])['TARGET'].sum().plot.bar()\n",
    "plt.show()"
   ]
  },
  {
   "cell_type": "markdown",
   "id": "d7c91ccd",
   "metadata": {},
   "source": [
    "##### job and difficulty paying their installments"
   ]
  },
  {
   "cell_type": "code",
   "execution_count": 93,
   "id": "7f410c6c",
   "metadata": {},
   "outputs": [
    {
     "data": {
      "image/png": "[encoded data removed]",
      "text/plain": [
       "<Figure size 432x288 with 1 Axes>"
      ]
     },
     "metadata": {
      "needs_background": "light"
     },
     "output_type": "display_data"
    }
   ],
   "source": [
    "app_df_3.groupby(['OCCUPATION_TYPE'])['TARGET'].sum().plot.bar()\n",
    "plt.show()"
   ]
  },
  {
   "cell_type": "markdown",
   "id": "476133ff",
   "metadata": {},
   "source": [
    "##### working experience and difficulty paying their installments"
   ]
  },
  {
   "cell_type": "code",
   "execution_count": 94,
   "id": "1b19c7be",
   "metadata": {},
   "outputs": [
    {
     "data": {
      "image/png": "[encoded data removed]",
      "text/plain": [
       "<Figure size 432x288 with 1 Axes>"
      ]
     },
     "metadata": {
      "needs_background": "light"
     },
     "output_type": "display_data"
    }
   ],
   "source": [
    "app_df_3.groupby(['exp_year_group'])['TARGET'].sum().plot.bar()\n",
    "plt.show()"
   ]
  },
  {
   "cell_type": "markdown",
   "id": "14b74861",
   "metadata": {},
   "source": [
    "##### apply_time and difficulty paying their installments"
   ]
  },
  {
   "cell_type": "code",
   "execution_count": 95,
   "id": "d2f80cc2",
   "metadata": {},
   "outputs": [
    {
     "data": {
      "image/png": "[encoded data removed]",
      "text/plain": [
       "<Figure size 432x288 with 1 Axes>"
      ]
     },
     "metadata": {
      "needs_background": "light"
     },
     "output_type": "display_data"
    }
   ],
   "source": [
    "app_df_3.groupby(['apply_time_group'])['TARGET'].sum().plot.barh()\n",
    "plt.show()"
   ]
  },
  {
   "cell_type": "markdown",
   "id": "9cb901f8",
   "metadata": {},
   "source": [
    "##### accommodation type and difficulty paying their installments"
   ]
  },
  {
   "cell_type": "code",
   "execution_count": 96,
   "id": "384a098f",
   "metadata": {},
   "outputs": [
    {
     "data": {
      "image/png": "[encoded data removed]",
      "text/plain": [
       "<Figure size 432x288 with 1 Axes>"
      ]
     },
     "metadata": {
      "needs_background": "light"
     },
     "output_type": "display_data"
    }
   ],
   "source": [
    "app_df_3.groupby(['NAME_HOUSING_TYPE'])['TARGET'].sum().plot.barh()\n",
    "plt.show()"
   ]
  },
  {
   "cell_type": "markdown",
   "id": "b3ad2547",
   "metadata": {},
   "source": [
    "##### family status and difficulty paying their installments"
   ]
  },
  {
   "cell_type": "code",
   "execution_count": 97,
   "id": "52c50354",
   "metadata": {},
   "outputs": [
    {
     "data": {
      "image/png": "[encoded data removed]",
      "text/plain": [
       "<Figure size 432x288 with 1 Axes>"
      ]
     },
     "metadata": {
      "needs_background": "light"
     },
     "output_type": "display_data"
    }
   ],
   "source": [
    "app_df_3.groupby(['NAME_FAMILY_STATUS'])['TARGET'].sum().plot.bar()\n",
    "plt.show()"
   ]
  },
  {
   "cell_type": "markdown",
   "id": "4e6251ef",
   "metadata": {},
   "source": [
    "##### income type and difficulty paying their installments"
   ]
  },
  {
   "cell_type": "code",
   "execution_count": 98,
   "id": "809530c8",
   "metadata": {},
   "outputs": [
    {
     "data": {
      "image/png": "[encoded data removed]",
      "text/plain": [
       "<Figure size 432x288 with 1 Axes>"
      ]
     },
     "metadata": {
      "needs_background": "light"
     },
     "output_type": "display_data"
    }
   ],
   "source": [
    "app_df_3.groupby(['NAME_INCOME_TYPE'])['TARGET'].sum().plot.barh()\n",
    "plt.show()"
   ]
  },
  {
   "cell_type": "markdown",
   "id": "df3aa78a",
   "metadata": {},
   "source": [
    "#### Multivariate analysis"
   ]
  },
  {
   "cell_type": "markdown",
   "id": "57a02643",
   "metadata": {},
   "source": [
    "This analysis is to identify patterns which indicate if a client has difficulty paying their installments.\n"
   ]
  },
  {
   "cell_type": "markdown",
   "id": "6c5e20ee",
   "metadata": {},
   "source": [
    "##### age group, education and difficulty paying their installments"
   ]
  },
  {
   "cell_type": "code",
   "execution_count": 99,
   "id": "0d8d1a99",
   "metadata": {},
   "outputs": [
    {
     "data": {
      "text/html": [
       "<div>\n",
       "<style scoped>\n",
       "    .dataframe tbody tr th:only-of-type {\n",
       "        vertical-align: middle;\n",
       "    }\n",
       "\n",
       "    .dataframe tbody tr th {\n",
       "        vertical-align: top;\n",
       "    }\n",
       "\n",
       "    .dataframe thead th {\n",
       "        text-align: right;\n",
       "    }\n",
       "</style>\n",
       "<table border=\"1\" class=\"dataframe\">\n",
       "  <thead>\n",
       "    <tr style=\"text-align: right;\">\n",
       "      <th>NAME_EDUCATION_TYPE</th>\n",
       "      <th>Academic degree</th>\n",
       "      <th>Higher education</th>\n",
       "      <th>Incomplete higher</th>\n",
       "      <th>Lower secondary</th>\n",
       "      <th>Secondary / secondary special</th>\n",
       "    </tr>\n",
       "    <tr>\n",
       "      <th>age_group</th>\n",
       "      <th></th>\n",
       "      <th></th>\n",
       "      <th></th>\n",
       "      <th></th>\n",
       "      <th></th>\n",
       "    </tr>\n",
       "  </thead>\n",
       "  <tbody>\n",
       "    <tr>\n",
       "      <th>18-25</th>\n",
       "      <td>0</td>\n",
       "      <td>268</td>\n",
       "      <td>199</td>\n",
       "      <td>24</td>\n",
       "      <td>1418</td>\n",
       "    </tr>\n",
       "    <tr>\n",
       "      <th>26-35</th>\n",
       "      <td>3</td>\n",
       "      <td>1522</td>\n",
       "      <td>422</td>\n",
       "      <td>122</td>\n",
       "      <td>5911</td>\n",
       "    </tr>\n",
       "    <tr>\n",
       "      <th>36-45</th>\n",
       "      <td>0</td>\n",
       "      <td>1017</td>\n",
       "      <td>153</td>\n",
       "      <td>118</td>\n",
       "      <td>5546</td>\n",
       "    </tr>\n",
       "    <tr>\n",
       "      <th>&gt;45</th>\n",
       "      <td>0</td>\n",
       "      <td>1116</td>\n",
       "      <td>90</td>\n",
       "      <td>153</td>\n",
       "      <td>6540</td>\n",
       "    </tr>\n",
       "  </tbody>\n",
       "</table>\n",
       "</div>"
      ],
      "text/plain": [
       "NAME_EDUCATION_TYPE  Academic degree  Higher education  Incomplete higher  \\\n",
       "age_group                                                                   \n",
       "18-25                              0               268                199   \n",
       "26-35                              3              1522                422   \n",
       "36-45                              0              1017                153   \n",
       ">45                                0              1116                 90   \n",
       "\n",
       "NAME_EDUCATION_TYPE  Lower secondary  Secondary / secondary special  \n",
       "age_group                                                            \n",
       "18-25                             24                           1418  \n",
       "26-35                            122                           5911  \n",
       "36-45                            118                           5546  \n",
       ">45                              153                           6540  "
      ]
     },
     "execution_count": 99,
     "metadata": {},
     "output_type": "execute_result"
    }
   ],
   "source": [
    "cal_1 = pd.pivot_table(app_df_3, \n",
    "                       values= 'TARGET',\n",
    "                       index='age_group',\n",
    "                       columns='NAME_EDUCATION_TYPE',\n",
    "                       aggfunc='sum')\n",
    "cal_1"
   ]
  },
  {
   "cell_type": "code",
   "execution_count": 100,
   "id": "14ba0da0",
   "metadata": {},
   "outputs": [
    {
     "data": {
      "image/png": "[encoded data removed]",
      "text/plain": [
       "<Figure size 432x288 with 2 Axes>"
      ]
     },
     "metadata": {
      "needs_background": "light"
     },
     "output_type": "display_data"
    }
   ],
   "source": [
    "sns.heatmap(cal_1, annot=True, cmap='RdYlGn', fmt='g')\n",
    "plt.show()"
   ]
  },
  {
   "cell_type": "markdown",
   "id": "f0dfa4a2",
   "metadata": {},
   "source": [
    "##### working experience group, avg income and difficulty paying their installments"
   ]
  },
  {
   "cell_type": "code",
   "execution_count": 101,
   "id": "779721bc",
   "metadata": {},
   "outputs": [
    {
     "data": {
      "text/html": [
       "<div>\n",
       "<style scoped>\n",
       "    .dataframe tbody tr th:only-of-type {\n",
       "        vertical-align: middle;\n",
       "    }\n",
       "\n",
       "    .dataframe tbody tr th {\n",
       "        vertical-align: top;\n",
       "    }\n",
       "\n",
       "    .dataframe thead th {\n",
       "        text-align: right;\n",
       "    }\n",
       "</style>\n",
       "<table border=\"1\" class=\"dataframe\">\n",
       "  <thead>\n",
       "    <tr style=\"text-align: right;\">\n",
       "      <th>income_group</th>\n",
       "      <th>100-150k</th>\n",
       "      <th>150-200k</th>\n",
       "      <th>200-250k</th>\n",
       "      <th>250-300k</th>\n",
       "      <th>50-100k</th>\n",
       "      <th>&lt; 50k</th>\n",
       "      <th>&gt;300k</th>\n",
       "    </tr>\n",
       "    <tr>\n",
       "      <th>exp_year_group</th>\n",
       "      <th></th>\n",
       "      <th></th>\n",
       "      <th></th>\n",
       "      <th></th>\n",
       "      <th></th>\n",
       "      <th></th>\n",
       "      <th></th>\n",
       "    </tr>\n",
       "  </thead>\n",
       "  <tbody>\n",
       "    <tr>\n",
       "      <th>1-2</th>\n",
       "      <td>1225</td>\n",
       "      <td>798</td>\n",
       "      <td>557</td>\n",
       "      <td>158</td>\n",
       "      <td>670</td>\n",
       "      <td>21</td>\n",
       "      <td>175</td>\n",
       "    </tr>\n",
       "    <tr>\n",
       "      <th>10-20</th>\n",
       "      <td>624</td>\n",
       "      <td>479</td>\n",
       "      <td>365</td>\n",
       "      <td>107</td>\n",
       "      <td>345</td>\n",
       "      <td>23</td>\n",
       "      <td>151</td>\n",
       "    </tr>\n",
       "    <tr>\n",
       "      <th>2-5</th>\n",
       "      <td>2441</td>\n",
       "      <td>1733</td>\n",
       "      <td>1156</td>\n",
       "      <td>387</td>\n",
       "      <td>1429</td>\n",
       "      <td>65</td>\n",
       "      <td>428</td>\n",
       "    </tr>\n",
       "    <tr>\n",
       "      <th>5-10</th>\n",
       "      <td>1417</td>\n",
       "      <td>1103</td>\n",
       "      <td>816</td>\n",
       "      <td>273</td>\n",
       "      <td>794</td>\n",
       "      <td>44</td>\n",
       "      <td>300</td>\n",
       "    </tr>\n",
       "    <tr>\n",
       "      <th>&lt;1</th>\n",
       "      <td>1986</td>\n",
       "      <td>1185</td>\n",
       "      <td>710</td>\n",
       "      <td>220</td>\n",
       "      <td>1508</td>\n",
       "      <td>186</td>\n",
       "      <td>221</td>\n",
       "    </tr>\n",
       "    <tr>\n",
       "      <th>&gt;20</th>\n",
       "      <td>169</td>\n",
       "      <td>105</td>\n",
       "      <td>78</td>\n",
       "      <td>28</td>\n",
       "      <td>118</td>\n",
       "      <td>2</td>\n",
       "      <td>22</td>\n",
       "    </tr>\n",
       "  </tbody>\n",
       "</table>\n",
       "</div>"
      ],
      "text/plain": [
       "income_group    100-150k  150-200k  200-250k  250-300k  50-100k  < 50k  >300k\n",
       "exp_year_group                                                               \n",
       "1-2                 1225       798       557       158      670     21    175\n",
       "10-20                624       479       365       107      345     23    151\n",
       "2-5                 2441      1733      1156       387     1429     65    428\n",
       "5-10                1417      1103       816       273      794     44    300\n",
       "<1                  1986      1185       710       220     1508    186    221\n",
       ">20                  169       105        78        28      118      2     22"
      ]
     },
     "execution_count": 101,
     "metadata": {},
     "output_type": "execute_result"
    }
   ],
   "source": [
    "cal_1 = pd.pivot_table(app_df_3, \n",
    "                       values= 'TARGET',\n",
    "                       index='exp_year_group',\n",
    "                       columns='income_group',\n",
    "                       aggfunc='sum')\n",
    "cal_1"
   ]
  },
  {
   "cell_type": "code",
   "execution_count": 102,
   "id": "3dafa921",
   "metadata": {},
   "outputs": [
    {
     "data": {
      "image/png": "[encoded data removed]",
      "text/plain": [
       "<Figure size 432x288 with 2 Axes>"
      ]
     },
     "metadata": {
      "needs_background": "light"
     },
     "output_type": "display_data"
    }
   ],
   "source": [
    "sns.heatmap(cal_1, annot=True, cmap='RdYlGn', fmt='g')\n",
    "plt.show()"
   ]
  },
  {
   "cell_type": "markdown",
   "id": "4f042cef",
   "metadata": {},
   "source": [
    "##### working experience group, gender and difficulty paying their installments"
   ]
  },
  {
   "cell_type": "code",
   "execution_count": 103,
   "id": "3e33dcd8",
   "metadata": {},
   "outputs": [
    {
     "data": {
      "text/html": [
       "<div>\n",
       "<style scoped>\n",
       "    .dataframe tbody tr th:only-of-type {\n",
       "        vertical-align: middle;\n",
       "    }\n",
       "\n",
       "    .dataframe tbody tr th {\n",
       "        vertical-align: top;\n",
       "    }\n",
       "\n",
       "    .dataframe thead th {\n",
       "        text-align: right;\n",
       "    }\n",
       "</style>\n",
       "<table border=\"1\" class=\"dataframe\">\n",
       "  <thead>\n",
       "    <tr style=\"text-align: right;\">\n",
       "      <th>CODE_GENDER</th>\n",
       "      <th>F</th>\n",
       "      <th>M</th>\n",
       "      <th>XNA</th>\n",
       "    </tr>\n",
       "    <tr>\n",
       "      <th>exp_year_group</th>\n",
       "      <th></th>\n",
       "      <th></th>\n",
       "      <th></th>\n",
       "    </tr>\n",
       "  </thead>\n",
       "  <tbody>\n",
       "    <tr>\n",
       "      <th>1-2</th>\n",
       "      <td>1824.00</td>\n",
       "      <td>1780.00</td>\n",
       "      <td>NaN</td>\n",
       "    </tr>\n",
       "    <tr>\n",
       "      <th>10-20</th>\n",
       "      <td>1243.00</td>\n",
       "      <td>851.00</td>\n",
       "      <td>NaN</td>\n",
       "    </tr>\n",
       "    <tr>\n",
       "      <th>2-5</th>\n",
       "      <td>4062.00</td>\n",
       "      <td>3577.00</td>\n",
       "      <td>0.00</td>\n",
       "    </tr>\n",
       "    <tr>\n",
       "      <th>5-10</th>\n",
       "      <td>2768.00</td>\n",
       "      <td>1979.00</td>\n",
       "      <td>0.00</td>\n",
       "    </tr>\n",
       "    <tr>\n",
       "      <th>&lt;1</th>\n",
       "      <td>3764.00</td>\n",
       "      <td>2252.00</td>\n",
       "      <td>NaN</td>\n",
       "    </tr>\n",
       "    <tr>\n",
       "      <th>&gt;20</th>\n",
       "      <td>381.00</td>\n",
       "      <td>141.00</td>\n",
       "      <td>0.00</td>\n",
       "    </tr>\n",
       "  </tbody>\n",
       "</table>\n",
       "</div>"
      ],
      "text/plain": [
       "CODE_GENDER          F       M  XNA\n",
       "exp_year_group                     \n",
       "1-2            1824.00 1780.00  NaN\n",
       "10-20          1243.00  851.00  NaN\n",
       "2-5            4062.00 3577.00 0.00\n",
       "5-10           2768.00 1979.00 0.00\n",
       "<1             3764.00 2252.00  NaN\n",
       ">20             381.00  141.00 0.00"
      ]
     },
     "execution_count": 103,
     "metadata": {},
     "output_type": "execute_result"
    }
   ],
   "source": [
    "cal_1 = pd.pivot_table(app_df_3, \n",
    "                       values= 'TARGET',\n",
    "                       index='exp_year_group',\n",
    "                       columns='CODE_GENDER',\n",
    "                       aggfunc='sum'\n",
    "                      )\n",
    "cal_1"
   ]
  },
  {
   "cell_type": "code",
   "execution_count": 104,
   "id": "36f9d1f8",
   "metadata": {},
   "outputs": [
    {
     "data": {
      "image/png": "[encoded data removed]",
      "text/plain": [
       "<Figure size 432x288 with 2 Axes>"
      ]
     },
     "metadata": {
      "needs_background": "light"
     },
     "output_type": "display_data"
    }
   ],
   "source": [
    "sns.heatmap(cal_1, annot=True,cmap='RdYlGn', fmt='g')\n",
    "plt.show()"
   ]
  },
  {
   "cell_type": "markdown",
   "id": "5e1b1efe",
   "metadata": {},
   "source": [
    "##### working experience group, job and difficulty paying their installments"
   ]
  },
  {
   "cell_type": "code",
   "execution_count": 105,
   "id": "6f60fb89",
   "metadata": {},
   "outputs": [],
   "source": [
    "cal_1 = pd.pivot_table(app_df_3, \n",
    "                       values= 'TARGET',\n",
    "                       index='OCCUPATION_TYPE',\n",
    "                       columns='exp_year_group',\n",
    "                       aggfunc='sum'\n",
    "                      )\n",
    "# cal_1"
   ]
  },
  {
   "cell_type": "code",
   "execution_count": 106,
   "id": "ef52f7ba",
   "metadata": {},
   "outputs": [
    {
     "data": {
      "image/png": "[encoded data removed]",
      "text/plain": [
       "<Figure size 432x288 with 2 Axes>"
      ]
     },
     "metadata": {
      "needs_background": "light"
     },
     "output_type": "display_data"
    }
   ],
   "source": [
    "sns.heatmap(cal_1, annot=True,cmap='RdYlGn', fmt='g')\n",
    "plt.show()"
   ]
  },
  {
   "cell_type": "markdown",
   "id": "b426a4db",
   "metadata": {},
   "source": [
    "##### job, family status and difficulty paying their installments"
   ]
  },
  {
   "cell_type": "code",
   "execution_count": 107,
   "id": "3f755134",
   "metadata": {},
   "outputs": [
    {
     "data": {
      "image/png": "[encoded data removed]",
      "text/plain": [
       "<Figure size 432x288 with 2 Axes>"
      ]
     },
     "metadata": {
      "needs_background": "light"
     },
     "output_type": "display_data"
    }
   ],
   "source": [
    "cal_1 = pd.pivot_table(app_df_3, \n",
    "                       values= 'TARGET',\n",
    "                       index='OCCUPATION_TYPE',\n",
    "                       columns='NAME_FAMILY_STATUS',\n",
    "                       aggfunc='sum'\n",
    "                      )\n",
    "sns.heatmap(cal_1, annot=True,cmap='RdYlGn', fmt='g')\n",
    "plt.show()"
   ]
  },
  {
   "cell_type": "markdown",
   "id": "054272e9",
   "metadata": {},
   "source": [
    "##### job, number of children and difficulty paying their installments"
   ]
  },
  {
   "cell_type": "code",
   "execution_count": 108,
   "id": "8b4ca604",
   "metadata": {},
   "outputs": [
    {
     "data": {
      "image/png": "[encoded data removed]",
      "text/plain": [
       "<Figure size 432x288 with 2 Axes>"
      ]
     },
     "metadata": {
      "needs_background": "light"
     },
     "output_type": "display_data"
    }
   ],
   "source": [
    "cal_1 = pd.pivot_table(app_df_3, \n",
    "                       values= 'TARGET',\n",
    "                       index='CNT_CHILDREN',\n",
    "                       columns='NAME_FAMILY_STATUS',\n",
    "                       aggfunc='sum'\n",
    "                      )\n",
    "sns.heatmap(cal_1, annot=True,cmap='RdYlGn', fmt='g')\n",
    "plt.show()"
   ]
  },
  {
   "cell_type": "markdown",
   "id": "d426818a",
   "metadata": {},
   "source": [
    "##### job, number of people in family and difficulty paying their installments"
   ]
  },
  {
   "cell_type": "code",
   "execution_count": 109,
   "id": "2338a0ae",
   "metadata": {},
   "outputs": [
    {
     "data": {
      "image/png": "[encoded data removed]",
      "text/plain": [
       "<Figure size 432x288 with 2 Axes>"
      ]
     },
     "metadata": {
      "needs_background": "light"
     },
     "output_type": "display_data"
    }
   ],
   "source": [
    "cal_1 = pd.pivot_table(app_df_3, \n",
    "                       values= 'TARGET',\n",
    "                       index='CNT_FAM_MEMBERS',\n",
    "                       columns='NAME_FAMILY_STATUS',\n",
    "                       aggfunc='sum'\n",
    "                      )\n",
    "sns.heatmap(cal_1, annot=True,cmap='RdYlGn', fmt='g')\n",
    "plt.show()"
   ]
  },
  {
   "cell_type": "markdown",
   "id": "66003987",
   "metadata": {},
   "source": [
    "##### job, education and difficulty paying their installments"
   ]
  },
  {
   "cell_type": "code",
   "execution_count": 110,
   "id": "efda3d00",
   "metadata": {},
   "outputs": [
    {
     "data": {
      "image/png": "[encoded data removed]",
      "text/plain": [
       "<Figure size 432x288 with 2 Axes>"
      ]
     },
     "metadata": {
      "needs_background": "light"
     },
     "output_type": "display_data"
    }
   ],
   "source": [
    "cal_1 = pd.pivot_table(app_df_3, \n",
    "                       values= 'TARGET',\n",
    "                       index='OCCUPATION_TYPE',\n",
    "                       columns='NAME_EDUCATION_TYPE',\n",
    "                       aggfunc='sum'\n",
    "                      )\n",
    "sns.heatmap(cal_1, annot=True,cmap='RdYlGn', fmt='g')\n",
    "plt.show()"
   ]
  },
  {
   "cell_type": "markdown",
   "id": "2f31fc19",
   "metadata": {},
   "source": [
    "##### job, job group and difficulty paying their installments"
   ]
  },
  {
   "cell_type": "code",
   "execution_count": 111,
   "id": "751d43ec",
   "metadata": {},
   "outputs": [
    {
     "data": {
      "image/png": "[encoded data removed]",
      "text/plain": [
       "<Figure size 432x288 with 2 Axes>"
      ]
     },
     "metadata": {
      "needs_background": "light"
     },
     "output_type": "display_data"
    }
   ],
   "source": [
    "cal_1 = pd.pivot_table(app_df_3, \n",
    "                       values= 'TARGET',\n",
    "                       index='OCCUPATION_TYPE',\n",
    "                       columns='NAME_INCOME_TYPE',\n",
    "                       aggfunc='sum'\n",
    "                      )\n",
    "sns.heatmap(cal_1, annot=True,cmap='RdYlGn', fmt='g')\n",
    "plt.show()"
   ]
  },
  {
   "cell_type": "markdown",
   "id": "e77d4466",
   "metadata": {},
   "source": [
    "##### job, company type and difficulty paying their installments"
   ]
  },
  {
   "cell_type": "code",
   "execution_count": 112,
   "id": "b3353070",
   "metadata": {},
   "outputs": [
    {
     "data": {
      "image/png": "[encoded data removed]",
      "text/plain": [
       "<Figure size 432x288 with 2 Axes>"
      ]
     },
     "metadata": {
      "needs_background": "light"
     },
     "output_type": "display_data"
    }
   ],
   "source": [
    "cal_1 = pd.pivot_table(app_df_3, \n",
    "                       values= 'TARGET',\n",
    "                       index='income_group',\n",
    "                       columns='NAME_EDUCATION_TYPE',\n",
    "                       aggfunc='sum'\n",
    "                      )\n",
    "sns.heatmap(cal_1, annot=True,cmap='RdYlGn', fmt='g')\n",
    "plt.show()"
   ]
  },
  {
   "cell_type": "code",
   "execution_count": 113,
   "id": "5bdfd39e",
   "metadata": {},
   "outputs": [
    {
     "data": {
      "text/html": [
       "<div>\n",
       "<style scoped>\n",
       "    .dataframe tbody tr th:only-of-type {\n",
       "        vertical-align: middle;\n",
       "    }\n",
       "\n",
       "    .dataframe tbody tr th {\n",
       "        vertical-align: top;\n",
       "    }\n",
       "\n",
       "    .dataframe thead th {\n",
       "        text-align: right;\n",
       "    }\n",
       "</style>\n",
       "<table border=\"1\" class=\"dataframe\">\n",
       "  <thead>\n",
       "    <tr style=\"text-align: right;\">\n",
       "      <th>NAME_EDUCATION_TYPE</th>\n",
       "      <th>Academic degree</th>\n",
       "      <th>Higher education</th>\n",
       "      <th>Incomplete higher</th>\n",
       "      <th>Lower secondary</th>\n",
       "      <th>Secondary / secondary special</th>\n",
       "    </tr>\n",
       "    <tr>\n",
       "      <th>income_group</th>\n",
       "      <th></th>\n",
       "      <th></th>\n",
       "      <th></th>\n",
       "      <th></th>\n",
       "      <th></th>\n",
       "    </tr>\n",
       "  </thead>\n",
       "  <tbody>\n",
       "    <tr>\n",
       "      <th>100-150k</th>\n",
       "      <td>0</td>\n",
       "      <td>971</td>\n",
       "      <td>263</td>\n",
       "      <td>154</td>\n",
       "      <td>6474</td>\n",
       "    </tr>\n",
       "    <tr>\n",
       "      <th>150-200k</th>\n",
       "      <td>0</td>\n",
       "      <td>938</td>\n",
       "      <td>206</td>\n",
       "      <td>78</td>\n",
       "      <td>4181</td>\n",
       "    </tr>\n",
       "    <tr>\n",
       "      <th>200-250k</th>\n",
       "      <td>0</td>\n",
       "      <td>804</td>\n",
       "      <td>143</td>\n",
       "      <td>37</td>\n",
       "      <td>2698</td>\n",
       "    </tr>\n",
       "    <tr>\n",
       "      <th>250-300k</th>\n",
       "      <td>1</td>\n",
       "      <td>299</td>\n",
       "      <td>55</td>\n",
       "      <td>9</td>\n",
       "      <td>809</td>\n",
       "    </tr>\n",
       "    <tr>\n",
       "      <th>50-100k</th>\n",
       "      <td>0</td>\n",
       "      <td>452</td>\n",
       "      <td>126</td>\n",
       "      <td>116</td>\n",
       "      <td>4170</td>\n",
       "    </tr>\n",
       "    <tr>\n",
       "      <th>&lt; 50k</th>\n",
       "      <td>0</td>\n",
       "      <td>23</td>\n",
       "      <td>4</td>\n",
       "      <td>18</td>\n",
       "      <td>296</td>\n",
       "    </tr>\n",
       "    <tr>\n",
       "      <th>&gt;300k</th>\n",
       "      <td>2</td>\n",
       "      <td>436</td>\n",
       "      <td>67</td>\n",
       "      <td>5</td>\n",
       "      <td>787</td>\n",
       "    </tr>\n",
       "  </tbody>\n",
       "</table>\n",
       "</div>"
      ],
      "text/plain": [
       "NAME_EDUCATION_TYPE  Academic degree  Higher education  Incomplete higher  \\\n",
       "income_group                                                                \n",
       "100-150k                           0               971                263   \n",
       "150-200k                           0               938                206   \n",
       "200-250k                           0               804                143   \n",
       "250-300k                           1               299                 55   \n",
       "50-100k                            0               452                126   \n",
       "< 50k                              0                23                  4   \n",
       ">300k                              2               436                 67   \n",
       "\n",
       "NAME_EDUCATION_TYPE  Lower secondary  Secondary / secondary special  \n",
       "income_group                                                         \n",
       "100-150k                         154                           6474  \n",
       "150-200k                          78                           4181  \n",
       "200-250k                          37                           2698  \n",
       "250-300k                           9                            809  \n",
       "50-100k                          116                           4170  \n",
       "< 50k                             18                            296  \n",
       ">300k                              5                            787  "
      ]
     },
     "execution_count": 113,
     "metadata": {},
     "output_type": "execute_result"
    }
   ],
   "source": [
    "cal_1"
   ]
  },
  {
   "cell_type": "code",
   "execution_count": null,
   "id": "1f78f24a",
   "metadata": {},
   "outputs": [],
   "source": []
  }
 ],
 "metadata": {
  "kernelspec": {
   "display_name": "Python 3 (ipykernel)",
   "language": "python",
   "name": "python3"
  },
  "language_info": {
   "codemirror_mode": {
    "name": "ipython",
    "version": 3
   },
   "file_extension": ".py",
   "mimetype": "text/x-python",
   "name": "python",
   "nbconvert_exporter": "python",
   "pygments_lexer": "ipython3",
   "version": "3.9.7"
  },
  "toc": {
   "base_numbering": 1,
   "nav_menu": {
    "height": "160px",
    "width": "258px"
   },
   "number_sections": true,
   "sideBar": true,
   "skip_h1_title": false,
   "title_cell": "Table of Contents",
   "title_sidebar": "Contents",
   "toc_cell": false,
   "toc_position": {
    "height": "calc(100% - 180px)",
    "left": "10px",
    "top": "150px",
    "width": "397.825px"
   },
   "toc_section_display": true,
   "toc_window_display": true
  }
 },
 "nbformat": 4,
 "nbformat_minor": 5
}
